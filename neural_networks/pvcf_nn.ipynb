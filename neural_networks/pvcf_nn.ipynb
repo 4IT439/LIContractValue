{
 "cells": [
  {
   "cell_type": "code",
   "execution_count": 1,
   "metadata": {
    "id": "dLSL6-AlVn6s"
   },
   "outputs": [],
   "source": [
    "import pandas as pd \n",
    "import numpy as np\n",
    "from sklearn import metrics\n",
    "from sklearn.model_selection import train_test_split\n",
    "from sklearn.preprocessing import StandardScaler\n",
    "import pickle\n",
    "import seaborn as sns\n",
    "import matplotlib.pyplot as plt"
   ]
  },
  {
   "cell_type": "code",
   "execution_count": 2,
   "metadata": {
    "id": "cBA14jJjES-h"
   },
   "outputs": [
    {
     "name": "stderr",
     "output_type": "stream",
     "text": [
      "/home/martin/anaconda3/lib/python3.7/site-packages/requests/__init__.py:91: RequestsDependencyWarning: urllib3 (1.26.4) or chardet (3.0.4) doesn't match a supported version!\n",
      "  RequestsDependencyWarning)\n"
     ]
    }
   ],
   "source": [
    "# Creating a Neural Network Model\n",
    "from tensorflow.keras.models import Sequential\n",
    "from tensorflow.keras.layers import Dense, Activation, Dropout\n",
    "from tensorflow.keras.optimizers import Adam\n",
    "import tensorflow as tf"
   ]
  },
  {
   "cell_type": "code",
   "execution_count": 3,
   "metadata": {
    "colab": {
     "base_uri": "https://localhost:8080/"
    },
    "id": "lP9OlPx69ag2",
    "outputId": "8140bf84-a27f-424b-8d74-219e4825997b"
   },
   "outputs": [],
   "source": [
    "# from google.colab import drive\n",
    "# drive.mount('/content/gdrive')"
   ]
  },
  {
   "cell_type": "code",
   "execution_count": 4,
   "metadata": {
    "id": "46l-efAHkfxk"
   },
   "outputs": [],
   "source": [
    "# from google.colab import files\n",
    "# uploaded = files.upload()"
   ]
  },
  {
   "cell_type": "code",
   "execution_count": 5,
   "metadata": {
    "id": "7h1hsXrkiAhH"
   },
   "outputs": [],
   "source": [
    "# BASEDIR = '/content/gdrive/MyDrive/tools4f/'  # colab\n",
    "BASEDIR = '../../data/'  # jupyter"
   ]
  },
  {
   "cell_type": "code",
   "execution_count": 6,
   "metadata": {},
   "outputs": [],
   "source": [
    "SEED = 420"
   ]
  },
  {
   "cell_type": "markdown",
   "metadata": {
    "id": "3fH4yHCiDmk_"
   },
   "source": [
    "# Load preprocessed data"
   ]
  },
  {
   "cell_type": "code",
   "execution_count": 7,
   "metadata": {
    "id": "8L7bMhAfDmDU"
   },
   "outputs": [],
   "source": [
    "# df = pd.read_pickle(BASEDIR + 'df_merged_train_test.pickle')\n",
    "df = pd.read_pickle(BASEDIR + 'df_merged_base_train_val.pickle')\n",
    "\n",
    "X_train = df[0]\n",
    "y_train = df[1]\n",
    "X_val = df[2]\n",
    "y_val = df[3]\n",
    "\n",
    "X_train.frequency = X_train.frequency.astype('int8')\n",
    "X_train.sum_ins = X_train.sum_ins.astype('int8')\n",
    "X_train.pol_period = X_train.pol_period.astype('int8')\n",
    "X_train.sex = X_train.sex.astype('int8')\n",
    "X_train.entry_age = X_train.entry_age.astype('int8')\n",
    "X_train.cnt_months = X_train.cnt_months.astype('int8')\n",
    "\n",
    "X_val.frequency = X_val.frequency.astype('int8')\n",
    "X_val.sum_ins = X_val.sum_ins.astype('int8')\n",
    "X_val.pol_period = X_val.pol_period.astype('int8')\n",
    "X_val.sex = X_val.sex.astype('int8')\n",
    "X_val.entry_age = X_val.entry_age.astype('int8')\n",
    "X_val.cnt_months = X_val.cnt_months.astype('int8')"
   ]
  },
  {
   "cell_type": "code",
   "execution_count": 8,
   "metadata": {},
   "outputs": [
    {
     "name": "stdout",
     "output_type": "stream",
     "text": [
      "# Train samples: 21036288\n",
      "# Val samples: 5259072\n"
     ]
    }
   ],
   "source": [
    "print('# Train samples:', len(X_train))\n",
    "print('# Val samples:', len(X_val))"
   ]
  },
  {
   "cell_type": "markdown",
   "metadata": {},
   "source": [
    "## Optional: Pick smaller data for training"
   ]
  },
  {
   "cell_type": "code",
   "execution_count": 12,
   "metadata": {
    "colab": {
     "base_uri": "https://localhost:8080/",
     "height": 419
    },
    "id": "VVWc5tlWll4R",
    "outputId": "60a52249-961d-4c1a-f435-8b8c1711323e"
   },
   "outputs": [],
   "source": [
    "xy_train = pd.concat([X_train, y_train], axis=1)\n",
    "xy_train_subset = xy_train.sample(frac=0.01, replace = False, random_state = np.random.RandomState())"
   ]
  },
  {
   "cell_type": "code",
   "execution_count": 13,
   "metadata": {
    "id": "WVwVO-MCnmnY"
   },
   "outputs": [],
   "source": [
    "y_train = xy_train_subset.pv_cf_rdr\n",
    "X_train = xy_train_subset.drop(columns=['pv_cf_rdr'])"
   ]
  },
  {
   "cell_type": "markdown",
   "metadata": {
    "id": "3LMrDewco3UW"
   },
   "source": [
    "## Pick validation data"
   ]
  },
  {
   "cell_type": "code",
   "execution_count": 14,
   "metadata": {
    "id": "KQTJFmijo8jc"
   },
   "outputs": [],
   "source": [
    "# # first divison - train, validation\n",
    "# X_train, X_val, y_train, y_val = train_test_split(\n",
    "#     X_train, y_train, train_size=0.8, test_size=0.2, random_state=SEED)"
   ]
  },
  {
   "cell_type": "code",
   "execution_count": 16,
   "metadata": {},
   "outputs": [
    {
     "name": "stdout",
     "output_type": "stream",
     "text": [
      "# Train samples: 21036\n",
      "# Val samples:   5259072\n"
     ]
    }
   ],
   "source": [
    "print('# Train samples:', len(X_train))\n",
    "print('# Val samples:  ', len(X_val))\n",
    "# print('# Test samples: ', len(X_test))"
   ]
  },
  {
   "cell_type": "markdown",
   "metadata": {},
   "source": [
    "# One Hot Encoding"
   ]
  },
  {
   "cell_type": "code",
   "execution_count": 17,
   "metadata": {},
   "outputs": [],
   "source": [
    "# Get one hot encoding\n",
    "dummies_train = pd.get_dummies(X_train['frequency'])\n",
    "dummies_val = pd.get_dummies(X_val['frequency'])"
   ]
  },
  {
   "cell_type": "code",
   "execution_count": 18,
   "metadata": {},
   "outputs": [],
   "source": [
    "dummies_train.columns = ['frequency_1', 'frequency_2', 'frequency_4', 'frequency_11', 'frequency_12']\n",
    "dummies_val.columns = ['frequency_1', 'frequency_2', 'frequency_4', 'frequency_11', 'frequency_12']"
   ]
  },
  {
   "cell_type": "code",
   "execution_count": 19,
   "metadata": {},
   "outputs": [],
   "source": [
    "# Drop encoded column\n",
    "X_train = X_train.drop('frequency', axis=1)\n",
    "X_val = X_val.drop('frequency', axis=1)"
   ]
  },
  {
   "cell_type": "code",
   "execution_count": 20,
   "metadata": {},
   "outputs": [],
   "source": [
    "# Join the encoded\n",
    "X_train = X_train.join(dummies_train)\n",
    "X_val = X_val.join(dummies_val)"
   ]
  },
  {
   "cell_type": "code",
   "execution_count": 21,
   "metadata": {},
   "outputs": [
    {
     "data": {
      "text/html": [
       "<div>\n",
       "<style scoped>\n",
       "    .dataframe tbody tr th:only-of-type {\n",
       "        vertical-align: middle;\n",
       "    }\n",
       "\n",
       "    .dataframe tbody tr th {\n",
       "        vertical-align: top;\n",
       "    }\n",
       "\n",
       "    .dataframe thead th {\n",
       "        text-align: right;\n",
       "    }\n",
       "</style>\n",
       "<table border=\"1\" class=\"dataframe\">\n",
       "  <thead>\n",
       "    <tr style=\"text-align: right;\">\n",
       "      <th></th>\n",
       "      <th>sum_ins</th>\n",
       "      <th>pol_period</th>\n",
       "      <th>sex</th>\n",
       "      <th>entry_age</th>\n",
       "      <th>cv_ps_0</th>\n",
       "      <th>beta0</th>\n",
       "      <th>beta1</th>\n",
       "      <th>beta2</th>\n",
       "      <th>tau</th>\n",
       "      <th>cnt_months</th>\n",
       "      <th>frequency_1</th>\n",
       "      <th>frequency_2</th>\n",
       "      <th>frequency_4</th>\n",
       "      <th>frequency_11</th>\n",
       "      <th>frequency_12</th>\n",
       "    </tr>\n",
       "  </thead>\n",
       "  <tbody>\n",
       "    <tr>\n",
       "      <th>9610796</th>\n",
       "      <td>64</td>\n",
       "      <td>30</td>\n",
       "      <td>1</td>\n",
       "      <td>40</td>\n",
       "      <td>344.798039</td>\n",
       "      <td>0.022685</td>\n",
       "      <td>-0.034793</td>\n",
       "      <td>0.084107</td>\n",
       "      <td>4.378151</td>\n",
       "      <td>29</td>\n",
       "      <td>0</td>\n",
       "      <td>0</td>\n",
       "      <td>0</td>\n",
       "      <td>0</td>\n",
       "      <td>1</td>\n",
       "    </tr>\n",
       "    <tr>\n",
       "      <th>13689129</th>\n",
       "      <td>64</td>\n",
       "      <td>10</td>\n",
       "      <td>1</td>\n",
       "      <td>40</td>\n",
       "      <td>11313.724399</td>\n",
       "      <td>0.014024</td>\n",
       "      <td>-0.028495</td>\n",
       "      <td>0.078612</td>\n",
       "      <td>4.969331</td>\n",
       "      <td>95</td>\n",
       "      <td>0</td>\n",
       "      <td>0</td>\n",
       "      <td>0</td>\n",
       "      <td>0</td>\n",
       "      <td>1</td>\n",
       "    </tr>\n",
       "    <tr>\n",
       "      <th>4369149</th>\n",
       "      <td>64</td>\n",
       "      <td>10</td>\n",
       "      <td>1</td>\n",
       "      <td>40</td>\n",
       "      <td>11313.724399</td>\n",
       "      <td>0.031299</td>\n",
       "      <td>-0.042507</td>\n",
       "      <td>0.082963</td>\n",
       "      <td>2.913211</td>\n",
       "      <td>95</td>\n",
       "      <td>0</td>\n",
       "      <td>0</td>\n",
       "      <td>1</td>\n",
       "      <td>0</td>\n",
       "      <td>0</td>\n",
       "    </tr>\n",
       "    <tr>\n",
       "      <th>26328432</th>\n",
       "      <td>32</td>\n",
       "      <td>40</td>\n",
       "      <td>0</td>\n",
       "      <td>20</td>\n",
       "      <td>1562.950802</td>\n",
       "      <td>0.014965</td>\n",
       "      <td>-0.027400</td>\n",
       "      <td>0.058273</td>\n",
       "      <td>3.344095</td>\n",
       "      <td>113</td>\n",
       "      <td>1</td>\n",
       "      <td>0</td>\n",
       "      <td>0</td>\n",
       "      <td>0</td>\n",
       "      <td>0</td>\n",
       "    </tr>\n",
       "    <tr>\n",
       "      <th>10185622</th>\n",
       "      <td>-96</td>\n",
       "      <td>30</td>\n",
       "      <td>0</td>\n",
       "      <td>30</td>\n",
       "      <td>282.042353</td>\n",
       "      <td>0.025656</td>\n",
       "      <td>-0.042380</td>\n",
       "      <td>0.098201</td>\n",
       "      <td>4.101122</td>\n",
       "      <td>11</td>\n",
       "      <td>0</td>\n",
       "      <td>0</td>\n",
       "      <td>0</td>\n",
       "      <td>1</td>\n",
       "      <td>0</td>\n",
       "    </tr>\n",
       "    <tr>\n",
       "      <th>...</th>\n",
       "      <td>...</td>\n",
       "      <td>...</td>\n",
       "      <td>...</td>\n",
       "      <td>...</td>\n",
       "      <td>...</td>\n",
       "      <td>...</td>\n",
       "      <td>...</td>\n",
       "      <td>...</td>\n",
       "      <td>...</td>\n",
       "      <td>...</td>\n",
       "      <td>...</td>\n",
       "      <td>...</td>\n",
       "      <td>...</td>\n",
       "      <td>...</td>\n",
       "      <td>...</td>\n",
       "    </tr>\n",
       "    <tr>\n",
       "      <th>600187</th>\n",
       "      <td>32</td>\n",
       "      <td>30</td>\n",
       "      <td>1</td>\n",
       "      <td>30</td>\n",
       "      <td>52.491012</td>\n",
       "      <td>0.038953</td>\n",
       "      <td>-0.050720</td>\n",
       "      <td>0.093556</td>\n",
       "      <td>2.631029</td>\n",
       "      <td>23</td>\n",
       "      <td>0</td>\n",
       "      <td>0</td>\n",
       "      <td>1</td>\n",
       "      <td>0</td>\n",
       "      <td>0</td>\n",
       "    </tr>\n",
       "    <tr>\n",
       "      <th>16146805</th>\n",
       "      <td>64</td>\n",
       "      <td>20</td>\n",
       "      <td>1</td>\n",
       "      <td>40</td>\n",
       "      <td>2642.443928</td>\n",
       "      <td>0.003884</td>\n",
       "      <td>-0.010466</td>\n",
       "      <td>0.037106</td>\n",
       "      <td>5.960667</td>\n",
       "      <td>71</td>\n",
       "      <td>0</td>\n",
       "      <td>0</td>\n",
       "      <td>1</td>\n",
       "      <td>0</td>\n",
       "      <td>0</td>\n",
       "    </tr>\n",
       "    <tr>\n",
       "      <th>12691937</th>\n",
       "      <td>-96</td>\n",
       "      <td>30</td>\n",
       "      <td>0</td>\n",
       "      <td>20</td>\n",
       "      <td>1680.680934</td>\n",
       "      <td>0.018179</td>\n",
       "      <td>-0.033825</td>\n",
       "      <td>0.087119</td>\n",
       "      <td>4.625637</td>\n",
       "      <td>71</td>\n",
       "      <td>0</td>\n",
       "      <td>0</td>\n",
       "      <td>0</td>\n",
       "      <td>1</td>\n",
       "      <td>0</td>\n",
       "    </tr>\n",
       "    <tr>\n",
       "      <th>6617653</th>\n",
       "      <td>64</td>\n",
       "      <td>20</td>\n",
       "      <td>1</td>\n",
       "      <td>50</td>\n",
       "      <td>7009.263049</td>\n",
       "      <td>0.022536</td>\n",
       "      <td>-0.043109</td>\n",
       "      <td>0.090463</td>\n",
       "      <td>3.387008</td>\n",
       "      <td>101</td>\n",
       "      <td>0</td>\n",
       "      <td>0</td>\n",
       "      <td>0</td>\n",
       "      <td>0</td>\n",
       "      <td>1</td>\n",
       "    </tr>\n",
       "    <tr>\n",
       "      <th>22310816</th>\n",
       "      <td>64</td>\n",
       "      <td>30</td>\n",
       "      <td>1</td>\n",
       "      <td>40</td>\n",
       "      <td>344.798039</td>\n",
       "      <td>0.005454</td>\n",
       "      <td>-0.037646</td>\n",
       "      <td>0.070942</td>\n",
       "      <td>2.343150</td>\n",
       "      <td>35</td>\n",
       "      <td>0</td>\n",
       "      <td>0</td>\n",
       "      <td>0</td>\n",
       "      <td>0</td>\n",
       "      <td>1</td>\n",
       "    </tr>\n",
       "  </tbody>\n",
       "</table>\n",
       "<p>21036 rows × 15 columns</p>\n",
       "</div>"
      ],
      "text/plain": [
       "          sum_ins  pol_period  sex  entry_age       cv_ps_0     beta0  \\\n",
       "9610796        64          30    1         40    344.798039  0.022685   \n",
       "13689129       64          10    1         40  11313.724399  0.014024   \n",
       "4369149        64          10    1         40  11313.724399  0.031299   \n",
       "26328432       32          40    0         20   1562.950802  0.014965   \n",
       "10185622      -96          30    0         30    282.042353  0.025656   \n",
       "...           ...         ...  ...        ...           ...       ...   \n",
       "600187         32          30    1         30     52.491012  0.038953   \n",
       "16146805       64          20    1         40   2642.443928  0.003884   \n",
       "12691937      -96          30    0         20   1680.680934  0.018179   \n",
       "6617653        64          20    1         50   7009.263049  0.022536   \n",
       "22310816       64          30    1         40    344.798039  0.005454   \n",
       "\n",
       "             beta1     beta2       tau  cnt_months  frequency_1  frequency_2  \\\n",
       "9610796  -0.034793  0.084107  4.378151          29            0            0   \n",
       "13689129 -0.028495  0.078612  4.969331          95            0            0   \n",
       "4369149  -0.042507  0.082963  2.913211          95            0            0   \n",
       "26328432 -0.027400  0.058273  3.344095         113            1            0   \n",
       "10185622 -0.042380  0.098201  4.101122          11            0            0   \n",
       "...            ...       ...       ...         ...          ...          ...   \n",
       "600187   -0.050720  0.093556  2.631029          23            0            0   \n",
       "16146805 -0.010466  0.037106  5.960667          71            0            0   \n",
       "12691937 -0.033825  0.087119  4.625637          71            0            0   \n",
       "6617653  -0.043109  0.090463  3.387008         101            0            0   \n",
       "22310816 -0.037646  0.070942  2.343150          35            0            0   \n",
       "\n",
       "          frequency_4  frequency_11  frequency_12  \n",
       "9610796             0             0             1  \n",
       "13689129            0             0             1  \n",
       "4369149             1             0             0  \n",
       "26328432            0             0             0  \n",
       "10185622            0             1             0  \n",
       "...               ...           ...           ...  \n",
       "600187              1             0             0  \n",
       "16146805            1             0             0  \n",
       "12691937            0             1             0  \n",
       "6617653             0             0             1  \n",
       "22310816            0             0             1  \n",
       "\n",
       "[21036 rows x 15 columns]"
      ]
     },
     "execution_count": 21,
     "metadata": {},
     "output_type": "execute_result"
    }
   ],
   "source": [
    "X_train"
   ]
  },
  {
   "cell_type": "markdown",
   "metadata": {},
   "source": [
    "# Optional: Standardize data"
   ]
  },
  {
   "cell_type": "code",
   "execution_count": 22,
   "metadata": {},
   "outputs": [],
   "source": [
    "X_train_toscale = X_train[['sum_ins', 'pol_period', 'entry_age', 'beta0', 'beta1', 'beta2', 'tau', 'cv_ps_0', 'cnt_months']]\n",
    "X_val_toscale = X_val[['sum_ins', 'pol_period', 'entry_age', 'beta0', 'beta1', 'beta2', 'tau', 'cv_ps_0', 'cnt_months']]"
   ]
  },
  {
   "cell_type": "code",
   "execution_count": 23,
   "metadata": {},
   "outputs": [],
   "source": [
    "X_train_nottoscale = X_train[['sex', 'frequency_1', 'frequency_2', 'frequency_4', 'frequency_11', 'frequency_12']]\n",
    "X_val_nottoscale = X_val[['sex', 'frequency_1', 'frequency_2', 'frequency_4', 'frequency_11', 'frequency_12']]"
   ]
  },
  {
   "cell_type": "code",
   "execution_count": 24,
   "metadata": {},
   "outputs": [],
   "source": [
    "standard_scaler = StandardScaler()\n",
    "\n",
    "X_train_scaled = pd.DataFrame(\n",
    "    standard_scaler.fit_transform(X_train_toscale), columns=X_train_toscale.columns, index=X_train_toscale.index)\n",
    "X_val_scaled = pd.DataFrame(\n",
    "    standard_scaler.transform(X_val_toscale), columns=X_val_toscale.columns, index=X_val_toscale.index)"
   ]
  },
  {
   "cell_type": "code",
   "execution_count": 25,
   "metadata": {},
   "outputs": [],
   "source": [
    "X_train = pd.concat([X_train_scaled, X_train_nottoscale], axis=1)\n",
    "X_val = pd.concat([X_val_scaled, X_val_nottoscale], axis=1)"
   ]
  },
  {
   "cell_type": "markdown",
   "metadata": {
    "id": "GxaDkFjNMVsQ"
   },
   "source": [
    "# Basic regression NN"
   ]
  },
  {
   "cell_type": "code",
   "execution_count": 42,
   "metadata": {},
   "outputs": [],
   "source": [
    "model_1 = Sequential()\n",
    "model_1.add(Dense(15, activation='relu', input_shape=(15,)))\n",
    "model_1.add(Dense(15, activation='relu'))\n",
    "model_1.add(Dense(1))\n",
    "model_1.compile(optimizer='Adam', loss='mse')"
   ]
  },
  {
   "cell_type": "code",
   "execution_count": 43,
   "metadata": {},
   "outputs": [
    {
     "name": "stdout",
     "output_type": "stream",
     "text": [
      "Epoch 1/5\n",
      "62/62 [==============================] - 0s 3ms/step - loss: 50346704896.0000 - val_loss: 51260919808.0000\n",
      "Epoch 2/5\n",
      "62/62 [==============================] - 0s 3ms/step - loss: 50345574400.0000 - val_loss: 51258789888.0000\n",
      "Epoch 3/5\n",
      "62/62 [==============================] - 0s 5ms/step - loss: 50341859328.0000 - val_loss: 51252826112.0000\n",
      "Epoch 4/5\n",
      "62/62 [==============================] - 0s 2ms/step - loss: 50332868608.0000 - val_loss: 51239833600.0000\n",
      "Epoch 5/5\n",
      "62/62 [==============================] - 0s 3ms/step - loss: 50315333632.0000 - val_loss: 51216773120.0000\n",
      "Model: \"sequential_1\"\n",
      "_________________________________________________________________\n",
      "Layer (type)                 Output Shape              Param #   \n",
      "=================================================================\n",
      "dense_3 (Dense)              (None, 15)                240       \n",
      "_________________________________________________________________\n",
      "dense_4 (Dense)              (None, 15)                240       \n",
      "_________________________________________________________________\n",
      "dense_5 (Dense)              (None, 1)                 16        \n",
      "=================================================================\n",
      "Total params: 496\n",
      "Trainable params: 496\n",
      "Non-trainable params: 0\n",
      "_________________________________________________________________\n",
      "CPU times: user 1.72 s, sys: 106 ms, total: 1.83 s\n",
      "Wall time: 1.79 s\n"
     ]
    }
   ],
   "source": [
    "%%time\n",
    "history_1 = model_1.fit(\n",
    "    x=X_train,\n",
    "    y=y_train,\n",
    "    validation_split=0.25,\n",
    "    batch_size=256,\n",
    "    epochs=5,\n",
    "    initial_epoch=0,\n",
    ")\n",
    "model_1.summary()"
   ]
  },
  {
   "cell_type": "markdown",
   "metadata": {},
   "source": [
    "### Save model"
   ]
  },
  {
   "cell_type": "code",
   "execution_count": 44,
   "metadata": {},
   "outputs": [
    {
     "name": "stdout",
     "output_type": "stream",
     "text": [
      "INFO:tensorflow:Assets written to: out_model/assets\n"
     ]
    }
   ],
   "source": [
    "model_1.save('out_model')"
   ]
  },
  {
   "cell_type": "code",
   "execution_count": 45,
   "metadata": {},
   "outputs": [],
   "source": [
    "loaded_model = tf.keras.models.load_model('out_model')"
   ]
  },
  {
   "cell_type": "code",
   "execution_count": 46,
   "metadata": {},
   "outputs": [
    {
     "data": {
      "text/plain": [
       "<tensorflow.python.keras.engine.sequential.Sequential at 0x7fd5b64afe80>"
      ]
     },
     "execution_count": 46,
     "metadata": {},
     "output_type": "execute_result"
    }
   ],
   "source": [
    "loaded_model"
   ]
  },
  {
   "cell_type": "markdown",
   "metadata": {},
   "source": [
    "## Evaluation"
   ]
  },
  {
   "cell_type": "code",
   "execution_count": 29,
   "metadata": {},
   "outputs": [
    {
     "data": {
      "text/plain": [
       "<matplotlib.axes._subplots.AxesSubplot at 0x7f42398a7c18>"
      ]
     },
     "execution_count": 29,
     "metadata": {},
     "output_type": "execute_result"
    },
    {
     "data": {
      "image/png": "[encoded data removed]",
      "text/plain": [
       "<Figure size 864x576 with 1 Axes>"
      ]
     },
     "metadata": {
      "needs_background": "light"
     },
     "output_type": "display_data"
    }
   ],
   "source": [
    "loss_df = pd.DataFrame(history_1.history)\n",
    "loss_df.plot(figsize=(12,8))"
   ]
  },
  {
   "cell_type": "code",
   "execution_count": 30,
   "metadata": {},
   "outputs": [
    {
     "name": "stdout",
     "output_type": "stream",
     "text": [
      "Train MAPE: 131.28969969834904\n",
      "CPU times: user 27 s, sys: 3.33 s, total: 30.3 s\n",
      "Wall time: 18.9 s\n"
     ]
    }
   ],
   "source": [
    "%%time\n",
    "y_pred_train = model_1.predict(X_train)\n",
    "print('Train MAPE:', metrics.mean_absolute_percentage_error(y_train, y_pred_train)*100)"
   ]
  },
  {
   "cell_type": "code",
   "execution_count": 31,
   "metadata": {},
   "outputs": [
    {
     "name": "stdout",
     "output_type": "stream",
     "text": [
      "Val MAPE: 435.1890407541355\n",
      "CPU times: user 1min 50s, sys: 9.22 s, total: 1min 59s\n",
      "Wall time: 1min 26s\n"
     ]
    }
   ],
   "source": [
    "%%time\n",
    "y_pred_val = model_1.predict(X_val)\n",
    "print('Val MAPE:', metrics.mean_absolute_percentage_error(y_val, y_pred_val)*100)"
   ]
  },
  {
   "cell_type": "code",
   "execution_count": 32,
   "metadata": {},
   "outputs": [
    {
     "data": {
      "text/html": [
       "<div>\n",
       "<style scoped>\n",
       "    .dataframe tbody tr th:only-of-type {\n",
       "        vertical-align: middle;\n",
       "    }\n",
       "\n",
       "    .dataframe tbody tr th {\n",
       "        vertical-align: top;\n",
       "    }\n",
       "\n",
       "    .dataframe thead th {\n",
       "        text-align: right;\n",
       "    }\n",
       "</style>\n",
       "<table border=\"1\" class=\"dataframe\">\n",
       "  <thead>\n",
       "    <tr style=\"text-align: right;\">\n",
       "      <th></th>\n",
       "      <th>y_true</th>\n",
       "      <th>y_pred</th>\n",
       "    </tr>\n",
       "  </thead>\n",
       "  <tbody>\n",
       "    <tr>\n",
       "      <th>0</th>\n",
       "      <td>-83862.531077</td>\n",
       "      <td>-82554.875000</td>\n",
       "    </tr>\n",
       "    <tr>\n",
       "      <th>1</th>\n",
       "      <td>-65637.196683</td>\n",
       "      <td>-82541.093750</td>\n",
       "    </tr>\n",
       "    <tr>\n",
       "      <th>2</th>\n",
       "      <td>-7271.691441</td>\n",
       "      <td>-12957.627930</td>\n",
       "    </tr>\n",
       "    <tr>\n",
       "      <th>3</th>\n",
       "      <td>-6076.361104</td>\n",
       "      <td>-12964.793945</td>\n",
       "    </tr>\n",
       "    <tr>\n",
       "      <th>4</th>\n",
       "      <td>-150124.544847</td>\n",
       "      <td>-158016.468750</td>\n",
       "    </tr>\n",
       "    <tr>\n",
       "      <th>...</th>\n",
       "      <td>...</td>\n",
       "      <td>...</td>\n",
       "    </tr>\n",
       "    <tr>\n",
       "      <th>5259067</th>\n",
       "      <td>-86785.717587</td>\n",
       "      <td>-85295.046875</td>\n",
       "    </tr>\n",
       "    <tr>\n",
       "      <th>5259068</th>\n",
       "      <td>41518.011475</td>\n",
       "      <td>8962.948242</td>\n",
       "    </tr>\n",
       "    <tr>\n",
       "      <th>5259069</th>\n",
       "      <td>-7631.515180</td>\n",
       "      <td>329.070038</td>\n",
       "    </tr>\n",
       "    <tr>\n",
       "      <th>5259070</th>\n",
       "      <td>-188544.490831</td>\n",
       "      <td>-170768.531250</td>\n",
       "    </tr>\n",
       "    <tr>\n",
       "      <th>5259071</th>\n",
       "      <td>-364632.519806</td>\n",
       "      <td>-359706.281250</td>\n",
       "    </tr>\n",
       "  </tbody>\n",
       "</table>\n",
       "<p>5259072 rows × 2 columns</p>\n",
       "</div>"
      ],
      "text/plain": [
       "                y_true         y_pred\n",
       "0        -83862.531077  -82554.875000\n",
       "1        -65637.196683  -82541.093750\n",
       "2         -7271.691441  -12957.627930\n",
       "3         -6076.361104  -12964.793945\n",
       "4       -150124.544847 -158016.468750\n",
       "...                ...            ...\n",
       "5259067  -86785.717587  -85295.046875\n",
       "5259068   41518.011475    8962.948242\n",
       "5259069   -7631.515180     329.070038\n",
       "5259070 -188544.490831 -170768.531250\n",
       "5259071 -364632.519806 -359706.281250\n",
       "\n",
       "[5259072 rows x 2 columns]"
      ]
     },
     "execution_count": 32,
     "metadata": {},
     "output_type": "execute_result"
    }
   ],
   "source": [
    "# export predictions\n",
    "df_predictions = pd.DataFrame()\n",
    "y_true_series = pd.DataFrame(y_val)\n",
    "y_pred_series = pd.DataFrame([item for sublist in y_pred_val for item in sublist])\n",
    "\n",
    "y_true_series.reset_index(drop=True, inplace=True)\n",
    "y_pred_series.reset_index(drop=True, inplace=True)\n",
    "df_predictions['y_true'] = y_true_series\n",
    "df_predictions['y_pred'] = y_pred_series\n",
    "\n",
    "df_predictions"
   ]
  },
  {
   "cell_type": "code",
   "execution_count": 38,
   "metadata": {},
   "outputs": [
    {
     "name": "stdout",
     "output_type": "stream",
     "text": [
      "Percentage error for portfolio: -0.030346643466484958%\n"
     ]
    }
   ],
   "source": [
    "# percentage error through the whole portfolio\n",
    "percentage_error = \\\n",
    "(df_predictions['y_true'].sum() - df_predictions['y_pred'].sum())/(df_predictions['y_true'].sum())*100\n",
    "print('Percentage error for portfolio: ' + str(percentage_error) + '%')"
   ]
  },
  {
   "cell_type": "code",
   "execution_count": 30,
   "metadata": {
    "id": "J-ARC_zRN_LF"
   },
   "outputs": [
    {
     "name": "stdout",
     "output_type": "stream",
     "text": [
      "MAE: 5613.071994338869\n",
      "MSE: 83631606.44487777\n",
      "RMSE: 9145.031790260642\n",
      "VarScore: 0.9974363582741496\n"
     ]
    }
   ],
   "source": [
    "print('MAE:', metrics.mean_absolute_error(y_val, y_pred_val))  \n",
    "print('MSE:', metrics.mean_squared_error(y_val, y_pred_val))  \n",
    "print('RMSE:', np.sqrt(metrics.mean_squared_error(y_val, y_pred_val)))\n",
    "print('VarScore:',metrics.explained_variance_score(y_val, y_pred_val))"
   ]
  },
  {
   "cell_type": "code",
   "execution_count": 31,
   "metadata": {},
   "outputs": [
    {
     "data": {
      "text/plain": [
       "[<matplotlib.lines.Line2D at 0x7f4f5a37a9e8>]"
      ]
     },
     "execution_count": 31,
     "metadata": {},
     "output_type": "execute_result"
    },
    {
     "data": {
      "image/png": "[encoded data removed]",
      "text/plain": [
       "<Figure size 720x360 with 1 Axes>"
      ]
     },
     "metadata": {
      "needs_background": "light"
     },
     "output_type": "display_data"
    }
   ],
   "source": [
    "# Visualizing Our predictions\n",
    "fig = plt.figure(figsize=(10,5))\n",
    "plt.scatter(y_val,y_pred_val)\n",
    "# Perfect predictions\n",
    "plt.plot(y_val,y_val,'r')"
   ]
  },
  {
   "cell_type": "code",
   "execution_count": 51,
   "metadata": {},
   "outputs": [
    {
     "data": {
      "text/plain": [
       "24427982    -24380.051648\n",
       "22554371    -80279.776314\n",
       "5741771     -63667.231390\n",
       "11625291    -33990.284520\n",
       "13380776    -85287.318642\n",
       "                ...      \n",
       "25185608    -46483.049387\n",
       "11174461   -377834.817878\n",
       "26879691    -80094.616728\n",
       "29496968    -51482.161813\n",
       "7603408     -88094.570647\n",
       "Name: pv_cf_rdr, Length: 525908, dtype: float64"
      ]
     },
     "execution_count": 51,
     "metadata": {},
     "output_type": "execute_result"
    }
   ],
   "source": [
    "y_val"
   ]
  },
  {
   "cell_type": "code",
   "execution_count": 60,
   "metadata": {},
   "outputs": [
    {
     "data": {
      "text/plain": [
       "array([[-20757.416],\n",
       "       [-78208.875],\n",
       "       [-64072.004],\n",
       "       ...,\n",
       "       [-81976.09 ],\n",
       "       [-51515.344],\n",
       "       [-88853.266]], dtype=float32)"
      ]
     },
     "execution_count": 60,
     "metadata": {},
     "output_type": "execute_result"
    }
   ],
   "source": [
    "y_pred_val"
   ]
  },
  {
   "cell_type": "code",
   "execution_count": 69,
   "metadata": {},
   "outputs": [
    {
     "data": {
      "text/html": [
       "<div>\n",
       "<style scoped>\n",
       "    .dataframe tbody tr th:only-of-type {\n",
       "        vertical-align: middle;\n",
       "    }\n",
       "\n",
       "    .dataframe tbody tr th {\n",
       "        vertical-align: top;\n",
       "    }\n",
       "\n",
       "    .dataframe thead th {\n",
       "        text-align: right;\n",
       "    }\n",
       "</style>\n",
       "<table border=\"1\" class=\"dataframe\">\n",
       "  <thead>\n",
       "    <tr style=\"text-align: right;\">\n",
       "      <th></th>\n",
       "      <th>pv_cf_rdr</th>\n",
       "    </tr>\n",
       "  </thead>\n",
       "  <tbody>\n",
       "    <tr>\n",
       "      <th>24427982</th>\n",
       "      <td>-24380.051648</td>\n",
       "    </tr>\n",
       "    <tr>\n",
       "      <th>22554371</th>\n",
       "      <td>-80279.776314</td>\n",
       "    </tr>\n",
       "    <tr>\n",
       "      <th>5741771</th>\n",
       "      <td>-63667.231390</td>\n",
       "    </tr>\n",
       "    <tr>\n",
       "      <th>11625291</th>\n",
       "      <td>-33990.284520</td>\n",
       "    </tr>\n",
       "    <tr>\n",
       "      <th>13380776</th>\n",
       "      <td>-85287.318642</td>\n",
       "    </tr>\n",
       "    <tr>\n",
       "      <th>...</th>\n",
       "      <td>...</td>\n",
       "    </tr>\n",
       "    <tr>\n",
       "      <th>25185608</th>\n",
       "      <td>-46483.049387</td>\n",
       "    </tr>\n",
       "    <tr>\n",
       "      <th>11174461</th>\n",
       "      <td>-377834.817878</td>\n",
       "    </tr>\n",
       "    <tr>\n",
       "      <th>26879691</th>\n",
       "      <td>-80094.616728</td>\n",
       "    </tr>\n",
       "    <tr>\n",
       "      <th>29496968</th>\n",
       "      <td>-51482.161813</td>\n",
       "    </tr>\n",
       "    <tr>\n",
       "      <th>7603408</th>\n",
       "      <td>-88094.570647</td>\n",
       "    </tr>\n",
       "  </tbody>\n",
       "</table>\n",
       "<p>525908 rows × 1 columns</p>\n",
       "</div>"
      ],
      "text/plain": [
       "              pv_cf_rdr\n",
       "24427982  -24380.051648\n",
       "22554371  -80279.776314\n",
       "5741771   -63667.231390\n",
       "11625291  -33990.284520\n",
       "13380776  -85287.318642\n",
       "...                 ...\n",
       "25185608  -46483.049387\n",
       "11174461 -377834.817878\n",
       "26879691  -80094.616728\n",
       "29496968  -51482.161813\n",
       "7603408   -88094.570647\n",
       "\n",
       "[525908 rows x 1 columns]"
      ]
     },
     "execution_count": 69,
     "metadata": {},
     "output_type": "execute_result"
    }
   ],
   "source": [
    "pd.DataFrame(y_val)"
   ]
  },
  {
   "cell_type": "code",
   "execution_count": 68,
   "metadata": {},
   "outputs": [
    {
     "data": {
      "text/html": [
       "<div>\n",
       "<style scoped>\n",
       "    .dataframe tbody tr th:only-of-type {\n",
       "        vertical-align: middle;\n",
       "    }\n",
       "\n",
       "    .dataframe tbody tr th {\n",
       "        vertical-align: top;\n",
       "    }\n",
       "\n",
       "    .dataframe thead th {\n",
       "        text-align: right;\n",
       "    }\n",
       "</style>\n",
       "<table border=\"1\" class=\"dataframe\">\n",
       "  <thead>\n",
       "    <tr style=\"text-align: right;\">\n",
       "      <th></th>\n",
       "      <th>0</th>\n",
       "    </tr>\n",
       "  </thead>\n",
       "  <tbody>\n",
       "    <tr>\n",
       "      <th>0</th>\n",
       "      <td>-20757.416016</td>\n",
       "    </tr>\n",
       "    <tr>\n",
       "      <th>1</th>\n",
       "      <td>-78208.875000</td>\n",
       "    </tr>\n",
       "    <tr>\n",
       "      <th>2</th>\n",
       "      <td>-64072.003906</td>\n",
       "    </tr>\n",
       "    <tr>\n",
       "      <th>3</th>\n",
       "      <td>-35283.257812</td>\n",
       "    </tr>\n",
       "    <tr>\n",
       "      <th>4</th>\n",
       "      <td>-83192.500000</td>\n",
       "    </tr>\n",
       "    <tr>\n",
       "      <th>...</th>\n",
       "      <td>...</td>\n",
       "    </tr>\n",
       "    <tr>\n",
       "      <th>525903</th>\n",
       "      <td>-45327.820312</td>\n",
       "    </tr>\n",
       "    <tr>\n",
       "      <th>525904</th>\n",
       "      <td>-386084.843750</td>\n",
       "    </tr>\n",
       "    <tr>\n",
       "      <th>525905</th>\n",
       "      <td>-81976.093750</td>\n",
       "    </tr>\n",
       "    <tr>\n",
       "      <th>525906</th>\n",
       "      <td>-51515.343750</td>\n",
       "    </tr>\n",
       "    <tr>\n",
       "      <th>525907</th>\n",
       "      <td>-88853.265625</td>\n",
       "    </tr>\n",
       "  </tbody>\n",
       "</table>\n",
       "<p>525908 rows × 1 columns</p>\n",
       "</div>"
      ],
      "text/plain": [
       "                    0\n",
       "0       -20757.416016\n",
       "1       -78208.875000\n",
       "2       -64072.003906\n",
       "3       -35283.257812\n",
       "4       -83192.500000\n",
       "...               ...\n",
       "525903  -45327.820312\n",
       "525904 -386084.843750\n",
       "525905  -81976.093750\n",
       "525906  -51515.343750\n",
       "525907  -88853.265625\n",
       "\n",
       "[525908 rows x 1 columns]"
      ]
     },
     "execution_count": 68,
     "metadata": {},
     "output_type": "execute_result"
    }
   ],
   "source": [
    "pd.DataFrame([item for sublist in y_pred_val for item in sublist])"
   ]
  },
  {
   "cell_type": "code",
   "execution_count": 108,
   "metadata": {},
   "outputs": [],
   "source": [
    "result = pd.DataFrame()"
   ]
  },
  {
   "cell_type": "code",
   "execution_count": 109,
   "metadata": {},
   "outputs": [],
   "source": [
    "a = pd.DataFrame(y_val)\n",
    "index = a.index\n",
    "b = pd.DataFrame([item for sublist in y_pred_val for item in sublist])\n",
    "\n",
    "a.reset_index(drop=True, inplace=True)\n",
    "b.reset_index(drop=True, inplace=True)"
   ]
  },
  {
   "cell_type": "code",
   "execution_count": 110,
   "metadata": {},
   "outputs": [],
   "source": [
    "result['y_true'] = a\n",
    "result['y_pred'] = b"
   ]
  },
  {
   "cell_type": "code",
   "execution_count": 112,
   "metadata": {},
   "outputs": [
    {
     "data": {
      "text/html": [
       "<div>\n",
       "<style scoped>\n",
       "    .dataframe tbody tr th:only-of-type {\n",
       "        vertical-align: middle;\n",
       "    }\n",
       "\n",
       "    .dataframe tbody tr th {\n",
       "        vertical-align: top;\n",
       "    }\n",
       "\n",
       "    .dataframe thead th {\n",
       "        text-align: right;\n",
       "    }\n",
       "</style>\n",
       "<table border=\"1\" class=\"dataframe\">\n",
       "  <thead>\n",
       "    <tr style=\"text-align: right;\">\n",
       "      <th></th>\n",
       "      <th>y_true</th>\n",
       "      <th>y_pred</th>\n",
       "    </tr>\n",
       "  </thead>\n",
       "  <tbody>\n",
       "    <tr>\n",
       "      <th>24427982</th>\n",
       "      <td>-24380.051648</td>\n",
       "      <td>-20757.416016</td>\n",
       "    </tr>\n",
       "    <tr>\n",
       "      <th>22554371</th>\n",
       "      <td>-80279.776314</td>\n",
       "      <td>-78208.875000</td>\n",
       "    </tr>\n",
       "    <tr>\n",
       "      <th>5741771</th>\n",
       "      <td>-63667.231390</td>\n",
       "      <td>-64072.003906</td>\n",
       "    </tr>\n",
       "    <tr>\n",
       "      <th>11625291</th>\n",
       "      <td>-33990.284520</td>\n",
       "      <td>-35283.257812</td>\n",
       "    </tr>\n",
       "    <tr>\n",
       "      <th>13380776</th>\n",
       "      <td>-85287.318642</td>\n",
       "      <td>-83192.500000</td>\n",
       "    </tr>\n",
       "    <tr>\n",
       "      <th>...</th>\n",
       "      <td>...</td>\n",
       "      <td>...</td>\n",
       "    </tr>\n",
       "    <tr>\n",
       "      <th>25185608</th>\n",
       "      <td>-46483.049387</td>\n",
       "      <td>-45327.820312</td>\n",
       "    </tr>\n",
       "    <tr>\n",
       "      <th>11174461</th>\n",
       "      <td>-377834.817878</td>\n",
       "      <td>-386084.843750</td>\n",
       "    </tr>\n",
       "    <tr>\n",
       "      <th>26879691</th>\n",
       "      <td>-80094.616728</td>\n",
       "      <td>-81976.093750</td>\n",
       "    </tr>\n",
       "    <tr>\n",
       "      <th>29496968</th>\n",
       "      <td>-51482.161813</td>\n",
       "      <td>-51515.343750</td>\n",
       "    </tr>\n",
       "    <tr>\n",
       "      <th>7603408</th>\n",
       "      <td>-88094.570647</td>\n",
       "      <td>-88853.265625</td>\n",
       "    </tr>\n",
       "  </tbody>\n",
       "</table>\n",
       "<p>525908 rows × 2 columns</p>\n",
       "</div>"
      ],
      "text/plain": [
       "                 y_true         y_pred\n",
       "24427982  -24380.051648  -20757.416016\n",
       "22554371  -80279.776314  -78208.875000\n",
       "5741771   -63667.231390  -64072.003906\n",
       "11625291  -33990.284520  -35283.257812\n",
       "13380776  -85287.318642  -83192.500000\n",
       "...                 ...            ...\n",
       "25185608  -46483.049387  -45327.820312\n",
       "11174461 -377834.817878 -386084.843750\n",
       "26879691  -80094.616728  -81976.093750\n",
       "29496968  -51482.161813  -51515.343750\n",
       "7603408   -88094.570647  -88853.265625\n",
       "\n",
       "[525908 rows x 2 columns]"
      ]
     },
     "execution_count": 112,
     "metadata": {},
     "output_type": "execute_result"
    }
   ],
   "source": [
    "result.set_index(index)"
   ]
  },
  {
   "cell_type": "code",
   "execution_count": null,
   "metadata": {},
   "outputs": [],
   "source": []
  }
 ],
 "metadata": {
  "accelerator": "TPU",
  "colab": {
   "collapsed_sections": [],
   "name": "pvcf.ipynb",
   "provenance": []
  },
  "kernelspec": {
   "display_name": "Python 3",
   "language": "python",
   "name": "python3"
  },
  "language_info": {
   "codemirror_mode": {
    "name": "ipython",
    "version": 3
   },
   "file_extension": ".py",
   "mimetype": "text/x-python",
   "name": "python",
   "nbconvert_exporter": "python",
   "pygments_lexer": "ipython3",
   "version": "3.7.3"
  }
 },
 "nbformat": 4,
 "nbformat_minor": 4
}
