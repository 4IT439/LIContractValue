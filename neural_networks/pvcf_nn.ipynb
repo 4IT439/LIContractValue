{
 "cells": [
  {
   "cell_type": "code",
   "execution_count": 3,
   "metadata": {
    "id": "dLSL6-AlVn6s"
   },
   "outputs": [],
   "source": [
    "import pandas as pd \n",
    "import numpy as np\n",
    "from sklearn import metrics\n",
    "from sklearn.model_selection import train_test_split\n",
    "from sklearn.preprocessing import StandardScaler\n",
    "import pickle\n",
    "import seaborn as sns\n",
    "import matplotlib.pyplot as plt"
   ]
  },
  {
   "cell_type": "code",
   "execution_count": 4,
   "metadata": {
    "id": "cBA14jJjES-h"
   },
   "outputs": [
    {
     "name": "stderr",
     "output_type": "stream",
     "text": [
      "/home/martin/anaconda3/lib/python3.7/site-packages/requests/__init__.py:91: RequestsDependencyWarning: urllib3 (1.26.4) or chardet (3.0.4) doesn't match a supported version!\n",
      "  RequestsDependencyWarning)\n"
     ]
    }
   ],
   "source": [
    "# Creating a Neural Network Model\n",
    "from tensorflow.keras.models import Sequential\n",
    "from tensorflow.keras.layers import Dense, Activation, Dropout\n",
    "from tensorflow.keras.optimizers import Adam\n",
    "import tensorflow as tf"
   ]
  },
  {
   "cell_type": "code",
   "execution_count": 5,
   "metadata": {
    "colab": {
     "base_uri": "https://localhost:8080/"
    },
    "id": "lP9OlPx69ag2",
    "outputId": "8140bf84-a27f-424b-8d74-219e4825997b"
   },
   "outputs": [],
   "source": [
    "# from google.colab import drive\n",
    "# drive.mount('/content/gdrive')"
   ]
  },
  {
   "cell_type": "code",
   "execution_count": 6,
   "metadata": {
    "id": "46l-efAHkfxk"
   },
   "outputs": [],
   "source": [
    "# from google.colab import files\n",
    "# uploaded = files.upload()"
   ]
  },
  {
   "cell_type": "code",
   "execution_count": 7,
   "metadata": {
    "id": "7h1hsXrkiAhH"
   },
   "outputs": [],
   "source": [
    "# BASEDIR = '/content/gdrive/MyDrive/tools4f/'  # colab\n",
    "BASEDIR = '../../data/'  # jupyter"
   ]
  },
  {
   "cell_type": "code",
   "execution_count": 8,
   "metadata": {},
   "outputs": [],
   "source": [
    "SEED = 420"
   ]
  },
  {
   "cell_type": "markdown",
   "metadata": {
    "id": "3fH4yHCiDmk_"
   },
   "source": [
    "# Load preprocessed data"
   ]
  },
  {
   "cell_type": "code",
   "execution_count": 9,
   "metadata": {
    "id": "8L7bMhAfDmDU"
   },
   "outputs": [],
   "source": [
    "# df = pd.read_pickle(BASEDIR + 'df_merged_train_test.pickle')\n",
    "df = pd.read_pickle(BASEDIR + 'df_merged_train_test_all_base_scen.pickle')\n",
    "\n",
    "X_train = df[0]\n",
    "y_train = df[1]\n",
    "X_test = df[2]\n",
    "y_test = df[3]\n",
    "\n",
    "X_train.frequency = X_train.frequency.astype('int8')\n",
    "X_train.sum_ins = X_train.sum_ins.astype('int8')\n",
    "X_train.pol_period = X_train.pol_period.astype('int8')\n",
    "X_train.sex = X_train.sex.astype('int8')\n",
    "X_train.entry_age = X_train.entry_age.astype('int8')\n",
    "X_train.cnt_months = X_train.cnt_months.astype('int8')\n",
    "\n",
    "X_test.frequency = X_test.frequency.astype('int8')\n",
    "X_test.sum_ins = X_test.sum_ins.astype('int8')\n",
    "X_test.pol_period = X_test.pol_period.astype('int8')\n",
    "X_test.sex = X_test.sex.astype('int8')\n",
    "X_test.entry_age = X_test.entry_age.astype('int8')\n",
    "X_test.cnt_months = X_test.cnt_months.astype('int8')"
   ]
  },
  {
   "cell_type": "code",
   "execution_count": 10,
   "metadata": {},
   "outputs": [
    {
     "name": "stdout",
     "output_type": "stream",
     "text": [
      "# Train samples: 26295360\n",
      "# Test samples: 6573840\n"
     ]
    }
   ],
   "source": [
    "print('# Train samples:', len(X_train))\n",
    "print('# Test samples:', len(X_test))"
   ]
  },
  {
   "cell_type": "markdown",
   "metadata": {},
   "source": [
    "## Optional: Pick smaller data for training"
   ]
  },
  {
   "cell_type": "code",
   "execution_count": 11,
   "metadata": {
    "colab": {
     "base_uri": "https://localhost:8080/",
     "height": 419
    },
    "id": "VVWc5tlWll4R",
    "outputId": "60a52249-961d-4c1a-f435-8b8c1711323e"
   },
   "outputs": [],
   "source": [
    "xy_train = pd.concat([X_train, y_train], axis=1)\n",
    "xy_train_subset = xy_train.sample(frac=0.1, replace = False, random_state = np.random.RandomState())"
   ]
  },
  {
   "cell_type": "code",
   "execution_count": 12,
   "metadata": {
    "id": "WVwVO-MCnmnY"
   },
   "outputs": [],
   "source": [
    "y_train = xy_train_subset.pv_cf_rdr\n",
    "X_train = xy_train_subset.drop(columns=['pv_cf_rdr'])"
   ]
  },
  {
   "cell_type": "markdown",
   "metadata": {
    "id": "3LMrDewco3UW"
   },
   "source": [
    "## Pick validation data"
   ]
  },
  {
   "cell_type": "code",
   "execution_count": 13,
   "metadata": {
    "id": "KQTJFmijo8jc"
   },
   "outputs": [],
   "source": [
    "# first divison - train, validation\n",
    "X_train, X_val, y_train, y_val = train_test_split(\n",
    "    X_train, y_train, train_size=0.8, test_size=0.2, random_state=SEED)"
   ]
  },
  {
   "cell_type": "code",
   "execution_count": 14,
   "metadata": {},
   "outputs": [
    {
     "name": "stdout",
     "output_type": "stream",
     "text": [
      "# Train samples: 2103628\n",
      "# Val samples:   525908\n",
      "# Test samples:  6573840\n"
     ]
    }
   ],
   "source": [
    "print('# Train samples:', len(X_train))\n",
    "print('# Val samples:  ', len(X_val))\n",
    "print('# Test samples: ', len(X_test))"
   ]
  },
  {
   "cell_type": "markdown",
   "metadata": {},
   "source": [
    "# One Hot Encoding"
   ]
  },
  {
   "cell_type": "code",
   "execution_count": 15,
   "metadata": {},
   "outputs": [],
   "source": [
    "# Get one hot encoding\n",
    "dummies_train = pd.get_dummies(X_train['frequency'])\n",
    "dummies_val = pd.get_dummies(X_val['frequency'])\n",
    "dummies_test = pd.get_dummies(X_test['frequency'])"
   ]
  },
  {
   "cell_type": "code",
   "execution_count": 16,
   "metadata": {},
   "outputs": [],
   "source": [
    "dummies_train.columns = ['frequency_1', 'frequency_2', 'frequency_4', 'frequency_11', 'frequency_12']\n",
    "dummies_val.columns = ['frequency_1', 'frequency_2', 'frequency_4', 'frequency_11', 'frequency_12']\n",
    "dummies_test.columns = ['frequency_1', 'frequency_2', 'frequency_4', 'frequency_11', 'frequency_12']"
   ]
  },
  {
   "cell_type": "code",
   "execution_count": 17,
   "metadata": {},
   "outputs": [],
   "source": [
    "# Drop encoded column\n",
    "X_train = X_train.drop('frequency', axis=1)\n",
    "X_val = X_val.drop('frequency', axis=1)\n",
    "X_test = X_test.drop('frequency', axis=1)"
   ]
  },
  {
   "cell_type": "code",
   "execution_count": 18,
   "metadata": {},
   "outputs": [],
   "source": [
    "# Join the encoded\n",
    "X_train = X_train.join(dummies_train)\n",
    "X_val = X_val.join(dummies_val)\n",
    "X_test = X_test.join(dummies_test)"
   ]
  },
  {
   "cell_type": "code",
   "execution_count": 19,
   "metadata": {},
   "outputs": [
    {
     "data": {
      "text/html": [
       "<div>\n",
       "<style scoped>\n",
       "    .dataframe tbody tr th:only-of-type {\n",
       "        vertical-align: middle;\n",
       "    }\n",
       "\n",
       "    .dataframe tbody tr th {\n",
       "        vertical-align: top;\n",
       "    }\n",
       "\n",
       "    .dataframe thead th {\n",
       "        text-align: right;\n",
       "    }\n",
       "</style>\n",
       "<table border=\"1\" class=\"dataframe\">\n",
       "  <thead>\n",
       "    <tr style=\"text-align: right;\">\n",
       "      <th></th>\n",
       "      <th>sum_ins</th>\n",
       "      <th>pol_period</th>\n",
       "      <th>sex</th>\n",
       "      <th>entry_age</th>\n",
       "      <th>cv_ps_0</th>\n",
       "      <th>beta0</th>\n",
       "      <th>beta1</th>\n",
       "      <th>beta2</th>\n",
       "      <th>tau</th>\n",
       "      <th>cnt_months</th>\n",
       "      <th>frequency_1</th>\n",
       "      <th>frequency_2</th>\n",
       "      <th>frequency_4</th>\n",
       "      <th>frequency_11</th>\n",
       "      <th>frequency_12</th>\n",
       "    </tr>\n",
       "  </thead>\n",
       "  <tbody>\n",
       "    <tr>\n",
       "      <th>9422933</th>\n",
       "      <td>32</td>\n",
       "      <td>50</td>\n",
       "      <td>0</td>\n",
       "      <td>20</td>\n",
       "      <td>1191.638450</td>\n",
       "      <td>0.025207</td>\n",
       "      <td>-0.036210</td>\n",
       "      <td>0.086088</td>\n",
       "      <td>4.229921</td>\n",
       "      <td>119</td>\n",
       "      <td>0</td>\n",
       "      <td>1</td>\n",
       "      <td>0</td>\n",
       "      <td>0</td>\n",
       "      <td>0</td>\n",
       "    </tr>\n",
       "    <tr>\n",
       "      <th>1468387</th>\n",
       "      <td>64</td>\n",
       "      <td>30</td>\n",
       "      <td>1</td>\n",
       "      <td>30</td>\n",
       "      <td>104.982025</td>\n",
       "      <td>0.037624</td>\n",
       "      <td>-0.053862</td>\n",
       "      <td>0.093040</td>\n",
       "      <td>2.259578</td>\n",
       "      <td>17</td>\n",
       "      <td>0</td>\n",
       "      <td>0</td>\n",
       "      <td>0</td>\n",
       "      <td>0</td>\n",
       "      <td>1</td>\n",
       "    </tr>\n",
       "    <tr>\n",
       "      <th>13950641</th>\n",
       "      <td>64</td>\n",
       "      <td>30</td>\n",
       "      <td>1</td>\n",
       "      <td>20</td>\n",
       "      <td>4593.701288</td>\n",
       "      <td>0.010904</td>\n",
       "      <td>-0.023544</td>\n",
       "      <td>0.073189</td>\n",
       "      <td>5.500312</td>\n",
       "      <td>119</td>\n",
       "      <td>0</td>\n",
       "      <td>0</td>\n",
       "      <td>1</td>\n",
       "      <td>0</td>\n",
       "      <td>0</td>\n",
       "    </tr>\n",
       "    <tr>\n",
       "      <th>25114439</th>\n",
       "      <td>32</td>\n",
       "      <td>10</td>\n",
       "      <td>1</td>\n",
       "      <td>60</td>\n",
       "      <td>3377.892995</td>\n",
       "      <td>0.008547</td>\n",
       "      <td>-0.034580</td>\n",
       "      <td>0.069839</td>\n",
       "      <td>2.574020</td>\n",
       "      <td>65</td>\n",
       "      <td>0</td>\n",
       "      <td>1</td>\n",
       "      <td>0</td>\n",
       "      <td>0</td>\n",
       "      <td>0</td>\n",
       "    </tr>\n",
       "    <tr>\n",
       "      <th>29852472</th>\n",
       "      <td>64</td>\n",
       "      <td>10</td>\n",
       "      <td>1</td>\n",
       "      <td>50</td>\n",
       "      <td>1254.083370</td>\n",
       "      <td>0.018222</td>\n",
       "      <td>-0.008097</td>\n",
       "      <td>0.034318</td>\n",
       "      <td>6.122767</td>\n",
       "      <td>29</td>\n",
       "      <td>0</td>\n",
       "      <td>0</td>\n",
       "      <td>1</td>\n",
       "      <td>0</td>\n",
       "      <td>0</td>\n",
       "    </tr>\n",
       "    <tr>\n",
       "      <th>...</th>\n",
       "      <td>...</td>\n",
       "      <td>...</td>\n",
       "      <td>...</td>\n",
       "      <td>...</td>\n",
       "      <td>...</td>\n",
       "      <td>...</td>\n",
       "      <td>...</td>\n",
       "      <td>...</td>\n",
       "      <td>...</td>\n",
       "      <td>...</td>\n",
       "      <td>...</td>\n",
       "      <td>...</td>\n",
       "      <td>...</td>\n",
       "      <td>...</td>\n",
       "      <td>...</td>\n",
       "    </tr>\n",
       "    <tr>\n",
       "      <th>18742205</th>\n",
       "      <td>32</td>\n",
       "      <td>10</td>\n",
       "      <td>1</td>\n",
       "      <td>30</td>\n",
       "      <td>0.000000</td>\n",
       "      <td>0.004696</td>\n",
       "      <td>-0.018499</td>\n",
       "      <td>0.050853</td>\n",
       "      <td>5.001052</td>\n",
       "      <td>5</td>\n",
       "      <td>0</td>\n",
       "      <td>0</td>\n",
       "      <td>1</td>\n",
       "      <td>0</td>\n",
       "      <td>0</td>\n",
       "    </tr>\n",
       "    <tr>\n",
       "      <th>32191737</th>\n",
       "      <td>-96</td>\n",
       "      <td>10</td>\n",
       "      <td>0</td>\n",
       "      <td>50</td>\n",
       "      <td>0.000000</td>\n",
       "      <td>0.014899</td>\n",
       "      <td>0.006919</td>\n",
       "      <td>-0.035794</td>\n",
       "      <td>7.770390</td>\n",
       "      <td>11</td>\n",
       "      <td>1</td>\n",
       "      <td>0</td>\n",
       "      <td>0</td>\n",
       "      <td>0</td>\n",
       "      <td>0</td>\n",
       "    </tr>\n",
       "    <tr>\n",
       "      <th>9403299</th>\n",
       "      <td>64</td>\n",
       "      <td>10</td>\n",
       "      <td>1</td>\n",
       "      <td>40</td>\n",
       "      <td>2424.369514</td>\n",
       "      <td>0.022963</td>\n",
       "      <td>-0.036205</td>\n",
       "      <td>0.104970</td>\n",
       "      <td>5.255113</td>\n",
       "      <td>41</td>\n",
       "      <td>0</td>\n",
       "      <td>0</td>\n",
       "      <td>1</td>\n",
       "      <td>0</td>\n",
       "      <td>0</td>\n",
       "    </tr>\n",
       "    <tr>\n",
       "      <th>26539709</th>\n",
       "      <td>64</td>\n",
       "      <td>10</td>\n",
       "      <td>1</td>\n",
       "      <td>60</td>\n",
       "      <td>6755.785990</td>\n",
       "      <td>0.015162</td>\n",
       "      <td>-0.026933</td>\n",
       "      <td>0.058241</td>\n",
       "      <td>3.428346</td>\n",
       "      <td>71</td>\n",
       "      <td>0</td>\n",
       "      <td>0</td>\n",
       "      <td>1</td>\n",
       "      <td>0</td>\n",
       "      <td>0</td>\n",
       "    </tr>\n",
       "    <tr>\n",
       "      <th>12884866</th>\n",
       "      <td>32</td>\n",
       "      <td>20</td>\n",
       "      <td>1</td>\n",
       "      <td>20</td>\n",
       "      <td>844.089881</td>\n",
       "      <td>0.016363</td>\n",
       "      <td>-0.032889</td>\n",
       "      <td>0.087737</td>\n",
       "      <td>4.797758</td>\n",
       "      <td>59</td>\n",
       "      <td>0</td>\n",
       "      <td>0</td>\n",
       "      <td>1</td>\n",
       "      <td>0</td>\n",
       "      <td>0</td>\n",
       "    </tr>\n",
       "  </tbody>\n",
       "</table>\n",
       "<p>2103628 rows × 15 columns</p>\n",
       "</div>"
      ],
      "text/plain": [
       "          sum_ins  pol_period  sex  entry_age      cv_ps_0     beta0  \\\n",
       "9422933        32          50    0         20  1191.638450  0.025207   \n",
       "1468387        64          30    1         30   104.982025  0.037624   \n",
       "13950641       64          30    1         20  4593.701288  0.010904   \n",
       "25114439       32          10    1         60  3377.892995  0.008547   \n",
       "29852472       64          10    1         50  1254.083370  0.018222   \n",
       "...           ...         ...  ...        ...          ...       ...   \n",
       "18742205       32          10    1         30     0.000000  0.004696   \n",
       "32191737      -96          10    0         50     0.000000  0.014899   \n",
       "9403299        64          10    1         40  2424.369514  0.022963   \n",
       "26539709       64          10    1         60  6755.785990  0.015162   \n",
       "12884866       32          20    1         20   844.089881  0.016363   \n",
       "\n",
       "             beta1     beta2       tau  cnt_months  frequency_1  frequency_2  \\\n",
       "9422933  -0.036210  0.086088  4.229921         119            0            1   \n",
       "1468387  -0.053862  0.093040  2.259578          17            0            0   \n",
       "13950641 -0.023544  0.073189  5.500312         119            0            0   \n",
       "25114439 -0.034580  0.069839  2.574020          65            0            1   \n",
       "29852472 -0.008097  0.034318  6.122767          29            0            0   \n",
       "...            ...       ...       ...         ...          ...          ...   \n",
       "18742205 -0.018499  0.050853  5.001052           5            0            0   \n",
       "32191737  0.006919 -0.035794  7.770390          11            1            0   \n",
       "9403299  -0.036205  0.104970  5.255113          41            0            0   \n",
       "26539709 -0.026933  0.058241  3.428346          71            0            0   \n",
       "12884866 -0.032889  0.087737  4.797758          59            0            0   \n",
       "\n",
       "          frequency_4  frequency_11  frequency_12  \n",
       "9422933             0             0             0  \n",
       "1468387             0             0             1  \n",
       "13950641            1             0             0  \n",
       "25114439            0             0             0  \n",
       "29852472            1             0             0  \n",
       "...               ...           ...           ...  \n",
       "18742205            1             0             0  \n",
       "32191737            0             0             0  \n",
       "9403299             1             0             0  \n",
       "26539709            1             0             0  \n",
       "12884866            1             0             0  \n",
       "\n",
       "[2103628 rows x 15 columns]"
      ]
     },
     "execution_count": 19,
     "metadata": {},
     "output_type": "execute_result"
    }
   ],
   "source": [
    "X_train"
   ]
  },
  {
   "cell_type": "markdown",
   "metadata": {},
   "source": [
    "# Optional: Standardize data"
   ]
  },
  {
   "cell_type": "code",
   "execution_count": 20,
   "metadata": {},
   "outputs": [],
   "source": [
    "X_train_toscale = X_train[['sum_ins', 'pol_period', 'entry_age', 'beta0', 'beta1', 'beta2', 'tau', 'cv_ps_0', 'cnt_months']]\n",
    "X_val_toscale = X_val[['sum_ins', 'pol_period', 'entry_age', 'beta0', 'beta1', 'beta2', 'tau', 'cv_ps_0', 'cnt_months']]\n",
    "X_test_toscale = X_test[['sum_ins', 'pol_period', 'entry_age', 'beta0', 'beta1', 'beta2', 'tau', 'cv_ps_0', 'cnt_months']]"
   ]
  },
  {
   "cell_type": "code",
   "execution_count": 21,
   "metadata": {},
   "outputs": [],
   "source": [
    "X_train_nottoscale = X_train[['sex', 'frequency_1', 'frequency_2', 'frequency_4', 'frequency_11', 'frequency_12']]\n",
    "X_val_nottoscale = X_val[['sex', 'frequency_1', 'frequency_2', 'frequency_4', 'frequency_11', 'frequency_12']]\n",
    "X_test_nottoscale = X_test[['sex', 'frequency_1', 'frequency_2', 'frequency_4', 'frequency_11', 'frequency_12']]"
   ]
  },
  {
   "cell_type": "code",
   "execution_count": 22,
   "metadata": {},
   "outputs": [],
   "source": [
    "standard_scaler = StandardScaler()\n",
    "\n",
    "X_train_scaled = pd.DataFrame(\n",
    "    standard_scaler.fit_transform(X_train_toscale), columns=X_train_toscale.columns, index=X_train_toscale.index)\n",
    "X_val_scaled = pd.DataFrame(\n",
    "    standard_scaler.transform(X_val_toscale), columns=X_val_toscale.columns, index=X_val_toscale.index)\n",
    "X_test_scaled = pd.DataFrame(\n",
    "    standard_scaler.transform(X_test_toscale), columns=X_test_toscale.columns, index=X_test_toscale.index)"
   ]
  },
  {
   "cell_type": "code",
   "execution_count": 23,
   "metadata": {},
   "outputs": [],
   "source": [
    "X_train = pd.concat([X_train_scaled, X_train_nottoscale], axis=1)\n",
    "X_val = pd.concat([X_val_scaled, X_val_nottoscale], axis=1)\n",
    "X_test = pd.concat([X_test_scaled, X_test_nottoscale], axis=1)"
   ]
  },
  {
   "cell_type": "markdown",
   "metadata": {
    "id": "GxaDkFjNMVsQ"
   },
   "source": [
    "# Basic regression NN"
   ]
  },
  {
   "cell_type": "code",
   "execution_count": 25,
   "metadata": {},
   "outputs": [],
   "source": [
    "model_1 = Sequential()\n",
    "model_1.add(Dense(16, activation='relu', input_shape=(15,)))\n",
    "model_1.add(Dense(1000, activation='relu'))\n",
    "model_1.add(Dense(1))\n",
    "model_1.compile(optimizer='Adam', loss='mse')"
   ]
  },
  {
   "cell_type": "code",
   "execution_count": 26,
   "metadata": {},
   "outputs": [
    {
     "name": "stdout",
     "output_type": "stream",
     "text": [
      "Epoch 1/5\n",
      "6163/6163 [==============================] - 17s 3ms/step - loss: 7397929472.0000 - val_loss: 942257792.0000\n",
      "Epoch 2/5\n",
      "6163/6163 [==============================] - 16s 3ms/step - loss: 598596480.0000 - val_loss: 249530432.0000\n",
      "Epoch 3/5\n",
      "6163/6163 [==============================] - 19s 3ms/step - loss: 187624768.0000 - val_loss: 144741040.0000\n",
      "Epoch 4/5\n",
      "6163/6163 [==============================] - 17s 3ms/step - loss: 118843048.0000 - val_loss: 101929752.0000\n",
      "Epoch 5/5\n",
      "6163/6163 [==============================] - 17s 3ms/step - loss: 91386832.0000 - val_loss: 84616336.0000\n",
      "Model: \"sequential_1\"\n",
      "_________________________________________________________________\n",
      "Layer (type)                 Output Shape              Param #   \n",
      "=================================================================\n",
      "dense_3 (Dense)              (None, 16)                256       \n",
      "_________________________________________________________________\n",
      "dense_4 (Dense)              (None, 1000)              17000     \n",
      "_________________________________________________________________\n",
      "dense_5 (Dense)              (None, 1)                 1001      \n",
      "=================================================================\n",
      "Total params: 18,257\n",
      "Trainable params: 18,257\n",
      "Non-trainable params: 0\n",
      "_________________________________________________________________\n",
      "CPU times: user 2min 38s, sys: 11.6 s, total: 2min 50s\n",
      "Wall time: 1min 26s\n"
     ]
    }
   ],
   "source": [
    "%%time\n",
    "history_1 = model_1.fit(\n",
    "    x=X_train,\n",
    "    y=y_train,\n",
    "    validation_split=0.25,\n",
    "    batch_size=256,\n",
    "    epochs=5,\n",
    "    initial_epoch=0,\n",
    ")\n",
    "model_1.summary()"
   ]
  },
  {
   "cell_type": "markdown",
   "metadata": {},
   "source": [
    "## Evaluation"
   ]
  },
  {
   "cell_type": "code",
   "execution_count": 27,
   "metadata": {},
   "outputs": [
    {
     "data": {
      "text/plain": [
       "<matplotlib.axes._subplots.AxesSubplot at 0x7f4f47b58c88>"
      ]
     },
     "execution_count": 27,
     "metadata": {},
     "output_type": "execute_result"
    },
    {
     "data": {
      "image/png": "[encoded data removed]",
      "text/plain": [
       "<Figure size 864x576 with 1 Axes>"
      ]
     },
     "metadata": {
      "needs_background": "light"
     },
     "output_type": "display_data"
    }
   ],
   "source": [
    "loss_df = pd.DataFrame(history_1.history)\n",
    "loss_df.plot(figsize=(12,8))"
   ]
  },
  {
   "cell_type": "code",
   "execution_count": 28,
   "metadata": {},
   "outputs": [
    {
     "name": "stdout",
     "output_type": "stream",
     "text": [
      "Train MAPE: 48.29317724894983\n",
      "CPU times: user 28.4 s, sys: 2.95 s, total: 31.4 s\n",
      "Wall time: 20.5 s\n"
     ]
    }
   ],
   "source": [
    "%%time\n",
    "y_pred_train = model_1.predict(X_train)\n",
    "print('Train MAPE:', metrics.mean_absolute_percentage_error(y_train, y_pred_train)*100)"
   ]
  },
  {
   "cell_type": "code",
   "execution_count": 29,
   "metadata": {},
   "outputs": [
    {
     "name": "stdout",
     "output_type": "stream",
     "text": [
      "Val MAPE: 114.21644150972104\n",
      "CPU times: user 6.74 s, sys: 604 ms, total: 7.35 s\n",
      "Wall time: 4.56 s\n"
     ]
    }
   ],
   "source": [
    "%%time\n",
    "y_pred_val = model_1.predict(X_val)\n",
    "print('Val MAPE:', metrics.mean_absolute_percentage_error(y_val, y_pred_val)*100)"
   ]
  },
  {
   "cell_type": "code",
   "execution_count": 30,
   "metadata": {
    "id": "J-ARC_zRN_LF"
   },
   "outputs": [
    {
     "name": "stdout",
     "output_type": "stream",
     "text": [
      "MAE: 5613.071994338869\n",
      "MSE: 83631606.44487777\n",
      "RMSE: 9145.031790260642\n",
      "VarScore: 0.9974363582741496\n"
     ]
    }
   ],
   "source": [
    "print('MAE:', metrics.mean_absolute_error(y_val, y_pred_val))  \n",
    "print('MSE:', metrics.mean_squared_error(y_val, y_pred_val))  \n",
    "print('RMSE:', np.sqrt(metrics.mean_squared_error(y_val, y_pred_val)))\n",
    "print('VarScore:',metrics.explained_variance_score(y_val, y_pred_val))"
   ]
  },
  {
   "cell_type": "code",
   "execution_count": 31,
   "metadata": {},
   "outputs": [
    {
     "data": {
      "text/plain": [
       "[<matplotlib.lines.Line2D at 0x7f4f5a37a9e8>]"
      ]
     },
     "execution_count": 31,
     "metadata": {},
     "output_type": "execute_result"
    },
    {
     "data": {
      "image/png": "[encoded data removed]",
      "text/plain": [
       "<Figure size 720x360 with 1 Axes>"
      ]
     },
     "metadata": {
      "needs_background": "light"
     },
     "output_type": "display_data"
    }
   ],
   "source": [
    "# Visualizing Our predictions\n",
    "fig = plt.figure(figsize=(10,5))\n",
    "plt.scatter(y_val,y_pred_val)\n",
    "# Perfect predictions\n",
    "plt.plot(y_val,y_val,'r')"
   ]
  },
  {
   "cell_type": "code",
   "execution_count": 51,
   "metadata": {},
   "outputs": [
    {
     "data": {
      "text/plain": [
       "24427982    -24380.051648\n",
       "22554371    -80279.776314\n",
       "5741771     -63667.231390\n",
       "11625291    -33990.284520\n",
       "13380776    -85287.318642\n",
       "                ...      \n",
       "25185608    -46483.049387\n",
       "11174461   -377834.817878\n",
       "26879691    -80094.616728\n",
       "29496968    -51482.161813\n",
       "7603408     -88094.570647\n",
       "Name: pv_cf_rdr, Length: 525908, dtype: float64"
      ]
     },
     "execution_count": 51,
     "metadata": {},
     "output_type": "execute_result"
    }
   ],
   "source": [
    "y_val"
   ]
  },
  {
   "cell_type": "code",
   "execution_count": 60,
   "metadata": {},
   "outputs": [
    {
     "data": {
      "text/plain": [
       "array([[-20757.416],\n",
       "       [-78208.875],\n",
       "       [-64072.004],\n",
       "       ...,\n",
       "       [-81976.09 ],\n",
       "       [-51515.344],\n",
       "       [-88853.266]], dtype=float32)"
      ]
     },
     "execution_count": 60,
     "metadata": {},
     "output_type": "execute_result"
    }
   ],
   "source": [
    "y_pred_val"
   ]
  },
  {
   "cell_type": "code",
   "execution_count": 69,
   "metadata": {},
   "outputs": [
    {
     "data": {
      "text/html": [
       "<div>\n",
       "<style scoped>\n",
       "    .dataframe tbody tr th:only-of-type {\n",
       "        vertical-align: middle;\n",
       "    }\n",
       "\n",
       "    .dataframe tbody tr th {\n",
       "        vertical-align: top;\n",
       "    }\n",
       "\n",
       "    .dataframe thead th {\n",
       "        text-align: right;\n",
       "    }\n",
       "</style>\n",
       "<table border=\"1\" class=\"dataframe\">\n",
       "  <thead>\n",
       "    <tr style=\"text-align: right;\">\n",
       "      <th></th>\n",
       "      <th>pv_cf_rdr</th>\n",
       "    </tr>\n",
       "  </thead>\n",
       "  <tbody>\n",
       "    <tr>\n",
       "      <th>24427982</th>\n",
       "      <td>-24380.051648</td>\n",
       "    </tr>\n",
       "    <tr>\n",
       "      <th>22554371</th>\n",
       "      <td>-80279.776314</td>\n",
       "    </tr>\n",
       "    <tr>\n",
       "      <th>5741771</th>\n",
       "      <td>-63667.231390</td>\n",
       "    </tr>\n",
       "    <tr>\n",
       "      <th>11625291</th>\n",
       "      <td>-33990.284520</td>\n",
       "    </tr>\n",
       "    <tr>\n",
       "      <th>13380776</th>\n",
       "      <td>-85287.318642</td>\n",
       "    </tr>\n",
       "    <tr>\n",
       "      <th>...</th>\n",
       "      <td>...</td>\n",
       "    </tr>\n",
       "    <tr>\n",
       "      <th>25185608</th>\n",
       "      <td>-46483.049387</td>\n",
       "    </tr>\n",
       "    <tr>\n",
       "      <th>11174461</th>\n",
       "      <td>-377834.817878</td>\n",
       "    </tr>\n",
       "    <tr>\n",
       "      <th>26879691</th>\n",
       "      <td>-80094.616728</td>\n",
       "    </tr>\n",
       "    <tr>\n",
       "      <th>29496968</th>\n",
       "      <td>-51482.161813</td>\n",
       "    </tr>\n",
       "    <tr>\n",
       "      <th>7603408</th>\n",
       "      <td>-88094.570647</td>\n",
       "    </tr>\n",
       "  </tbody>\n",
       "</table>\n",
       "<p>525908 rows × 1 columns</p>\n",
       "</div>"
      ],
      "text/plain": [
       "              pv_cf_rdr\n",
       "24427982  -24380.051648\n",
       "22554371  -80279.776314\n",
       "5741771   -63667.231390\n",
       "11625291  -33990.284520\n",
       "13380776  -85287.318642\n",
       "...                 ...\n",
       "25185608  -46483.049387\n",
       "11174461 -377834.817878\n",
       "26879691  -80094.616728\n",
       "29496968  -51482.161813\n",
       "7603408   -88094.570647\n",
       "\n",
       "[525908 rows x 1 columns]"
      ]
     },
     "execution_count": 69,
     "metadata": {},
     "output_type": "execute_result"
    }
   ],
   "source": [
    "pd.DataFrame(y_val)"
   ]
  },
  {
   "cell_type": "code",
   "execution_count": 68,
   "metadata": {},
   "outputs": [
    {
     "data": {
      "text/html": [
       "<div>\n",
       "<style scoped>\n",
       "    .dataframe tbody tr th:only-of-type {\n",
       "        vertical-align: middle;\n",
       "    }\n",
       "\n",
       "    .dataframe tbody tr th {\n",
       "        vertical-align: top;\n",
       "    }\n",
       "\n",
       "    .dataframe thead th {\n",
       "        text-align: right;\n",
       "    }\n",
       "</style>\n",
       "<table border=\"1\" class=\"dataframe\">\n",
       "  <thead>\n",
       "    <tr style=\"text-align: right;\">\n",
       "      <th></th>\n",
       "      <th>0</th>\n",
       "    </tr>\n",
       "  </thead>\n",
       "  <tbody>\n",
       "    <tr>\n",
       "      <th>0</th>\n",
       "      <td>-20757.416016</td>\n",
       "    </tr>\n",
       "    <tr>\n",
       "      <th>1</th>\n",
       "      <td>-78208.875000</td>\n",
       "    </tr>\n",
       "    <tr>\n",
       "      <th>2</th>\n",
       "      <td>-64072.003906</td>\n",
       "    </tr>\n",
       "    <tr>\n",
       "      <th>3</th>\n",
       "      <td>-35283.257812</td>\n",
       "    </tr>\n",
       "    <tr>\n",
       "      <th>4</th>\n",
       "      <td>-83192.500000</td>\n",
       "    </tr>\n",
       "    <tr>\n",
       "      <th>...</th>\n",
       "      <td>...</td>\n",
       "    </tr>\n",
       "    <tr>\n",
       "      <th>525903</th>\n",
       "      <td>-45327.820312</td>\n",
       "    </tr>\n",
       "    <tr>\n",
       "      <th>525904</th>\n",
       "      <td>-386084.843750</td>\n",
       "    </tr>\n",
       "    <tr>\n",
       "      <th>525905</th>\n",
       "      <td>-81976.093750</td>\n",
       "    </tr>\n",
       "    <tr>\n",
       "      <th>525906</th>\n",
       "      <td>-51515.343750</td>\n",
       "    </tr>\n",
       "    <tr>\n",
       "      <th>525907</th>\n",
       "      <td>-88853.265625</td>\n",
       "    </tr>\n",
       "  </tbody>\n",
       "</table>\n",
       "<p>525908 rows × 1 columns</p>\n",
       "</div>"
      ],
      "text/plain": [
       "                    0\n",
       "0       -20757.416016\n",
       "1       -78208.875000\n",
       "2       -64072.003906\n",
       "3       -35283.257812\n",
       "4       -83192.500000\n",
       "...               ...\n",
       "525903  -45327.820312\n",
       "525904 -386084.843750\n",
       "525905  -81976.093750\n",
       "525906  -51515.343750\n",
       "525907  -88853.265625\n",
       "\n",
       "[525908 rows x 1 columns]"
      ]
     },
     "execution_count": 68,
     "metadata": {},
     "output_type": "execute_result"
    }
   ],
   "source": [
    "pd.DataFrame([item for sublist in y_pred_val for item in sublist])"
   ]
  },
  {
   "cell_type": "code",
   "execution_count": 108,
   "metadata": {},
   "outputs": [],
   "source": [
    "result = pd.DataFrame()"
   ]
  },
  {
   "cell_type": "code",
   "execution_count": 109,
   "metadata": {},
   "outputs": [],
   "source": [
    "a = pd.DataFrame(y_val)\n",
    "index = a.index\n",
    "b = pd.DataFrame([item for sublist in y_pred_val for item in sublist])\n",
    "\n",
    "a.reset_index(drop=True, inplace=True)\n",
    "b.reset_index(drop=True, inplace=True)"
   ]
  },
  {
   "cell_type": "code",
   "execution_count": 110,
   "metadata": {},
   "outputs": [],
   "source": [
    "result['y_true'] = a\n",
    "result['y_pred'] = b"
   ]
  },
  {
   "cell_type": "code",
   "execution_count": 112,
   "metadata": {},
   "outputs": [
    {
     "data": {
      "text/html": [
       "<div>\n",
       "<style scoped>\n",
       "    .dataframe tbody tr th:only-of-type {\n",
       "        vertical-align: middle;\n",
       "    }\n",
       "\n",
       "    .dataframe tbody tr th {\n",
       "        vertical-align: top;\n",
       "    }\n",
       "\n",
       "    .dataframe thead th {\n",
       "        text-align: right;\n",
       "    }\n",
       "</style>\n",
       "<table border=\"1\" class=\"dataframe\">\n",
       "  <thead>\n",
       "    <tr style=\"text-align: right;\">\n",
       "      <th></th>\n",
       "      <th>y_true</th>\n",
       "      <th>y_pred</th>\n",
       "    </tr>\n",
       "  </thead>\n",
       "  <tbody>\n",
       "    <tr>\n",
       "      <th>24427982</th>\n",
       "      <td>-24380.051648</td>\n",
       "      <td>-20757.416016</td>\n",
       "    </tr>\n",
       "    <tr>\n",
       "      <th>22554371</th>\n",
       "      <td>-80279.776314</td>\n",
       "      <td>-78208.875000</td>\n",
       "    </tr>\n",
       "    <tr>\n",
       "      <th>5741771</th>\n",
       "      <td>-63667.231390</td>\n",
       "      <td>-64072.003906</td>\n",
       "    </tr>\n",
       "    <tr>\n",
       "      <th>11625291</th>\n",
       "      <td>-33990.284520</td>\n",
       "      <td>-35283.257812</td>\n",
       "    </tr>\n",
       "    <tr>\n",
       "      <th>13380776</th>\n",
       "      <td>-85287.318642</td>\n",
       "      <td>-83192.500000</td>\n",
       "    </tr>\n",
       "    <tr>\n",
       "      <th>...</th>\n",
       "      <td>...</td>\n",
       "      <td>...</td>\n",
       "    </tr>\n",
       "    <tr>\n",
       "      <th>25185608</th>\n",
       "      <td>-46483.049387</td>\n",
       "      <td>-45327.820312</td>\n",
       "    </tr>\n",
       "    <tr>\n",
       "      <th>11174461</th>\n",
       "      <td>-377834.817878</td>\n",
       "      <td>-386084.843750</td>\n",
       "    </tr>\n",
       "    <tr>\n",
       "      <th>26879691</th>\n",
       "      <td>-80094.616728</td>\n",
       "      <td>-81976.093750</td>\n",
       "    </tr>\n",
       "    <tr>\n",
       "      <th>29496968</th>\n",
       "      <td>-51482.161813</td>\n",
       "      <td>-51515.343750</td>\n",
       "    </tr>\n",
       "    <tr>\n",
       "      <th>7603408</th>\n",
       "      <td>-88094.570647</td>\n",
       "      <td>-88853.265625</td>\n",
       "    </tr>\n",
       "  </tbody>\n",
       "</table>\n",
       "<p>525908 rows × 2 columns</p>\n",
       "</div>"
      ],
      "text/plain": [
       "                 y_true         y_pred\n",
       "24427982  -24380.051648  -20757.416016\n",
       "22554371  -80279.776314  -78208.875000\n",
       "5741771   -63667.231390  -64072.003906\n",
       "11625291  -33990.284520  -35283.257812\n",
       "13380776  -85287.318642  -83192.500000\n",
       "...                 ...            ...\n",
       "25185608  -46483.049387  -45327.820312\n",
       "11174461 -377834.817878 -386084.843750\n",
       "26879691  -80094.616728  -81976.093750\n",
       "29496968  -51482.161813  -51515.343750\n",
       "7603408   -88094.570647  -88853.265625\n",
       "\n",
       "[525908 rows x 2 columns]"
      ]
     },
     "execution_count": 112,
     "metadata": {},
     "output_type": "execute_result"
    }
   ],
   "source": [
    "result.set_index(index)"
   ]
  },
  {
   "cell_type": "code",
   "execution_count": null,
   "metadata": {},
   "outputs": [],
   "source": []
  }
 ],
 "metadata": {
  "accelerator": "TPU",
  "colab": {
   "collapsed_sections": [],
   "name": "pvcf.ipynb",
   "provenance": []
  },
  "kernelspec": {
   "display_name": "Python 3",
   "language": "python",
   "name": "python3"
  },
  "language_info": {
   "codemirror_mode": {
    "name": "ipython",
    "version": 3
   },
   "file_extension": ".py",
   "mimetype": "text/x-python",
   "name": "python",
   "nbconvert_exporter": "python",
   "pygments_lexer": "ipython3",
   "version": "3.7.3"
  }
 },
 "nbformat": 4,
 "nbformat_minor": 4
}
