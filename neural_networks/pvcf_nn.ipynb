{
 "cells": [
  {
   "cell_type": "code",
   "execution_count": 76,
   "metadata": {
    "id": "dLSL6-AlVn6s"
   },
   "outputs": [],
   "source": [
    "import pandas as pd \n",
    "import numpy as np\n",
    "from sklearn import metrics\n",
    "from sklearn.model_selection import train_test_split\n",
    "from sklearn.preprocessing import StandardScaler\n",
    "import pickle\n",
    "import seaborn as sns\n",
    "import matplotlib.pyplot as plt"
   ]
  },
  {
   "cell_type": "code",
   "execution_count": 77,
   "metadata": {
    "id": "cBA14jJjES-h"
   },
   "outputs": [],
   "source": [
    "# Creating a Neural Network Model\n",
    "from tensorflow.keras.models import Sequential\n",
    "from tensorflow.keras.layers import Dense, Activation, Dropout\n",
    "from tensorflow.keras.optimizers import Adam\n",
    "import tensorflow as tf"
   ]
  },
  {
   "cell_type": "code",
   "execution_count": 78,
   "metadata": {
    "colab": {
     "base_uri": "https://localhost:8080/"
    },
    "id": "lP9OlPx69ag2",
    "outputId": "8140bf84-a27f-424b-8d74-219e4825997b"
   },
   "outputs": [],
   "source": [
    "# from google.colab import drive\n",
    "# drive.mount('/content/gdrive')"
   ]
  },
  {
   "cell_type": "code",
   "execution_count": 79,
   "metadata": {
    "id": "46l-efAHkfxk"
   },
   "outputs": [],
   "source": [
    "# from google.colab import files\n",
    "# uploaded = files.upload()"
   ]
  },
  {
   "cell_type": "code",
   "execution_count": 80,
   "metadata": {
    "id": "7h1hsXrkiAhH"
   },
   "outputs": [],
   "source": [
    "# BASEDIR = '/content/gdrive/MyDrive/tools4f/'  # colab\n",
    "BASEDIR = './'  # jupyter"
   ]
  },
  {
   "cell_type": "code",
   "execution_count": 81,
   "metadata": {},
   "outputs": [],
   "source": [
    "SEED = 420"
   ]
  },
  {
   "cell_type": "markdown",
   "metadata": {
    "id": "3fH4yHCiDmk_"
   },
   "source": [
    "# Load preprocessed data"
   ]
  },
  {
   "cell_type": "code",
   "execution_count": 82,
   "metadata": {
    "id": "8L7bMhAfDmDU"
   },
   "outputs": [],
   "source": [
    "# df = pd.read_pickle(BASEDIR + 'df_merged_train_test.pickle')\n",
    "df = pd.read_pickle(BASEDIR + 'df_merged_train_test_10.pickle')\n",
    "\n",
    "X_train = df[0]\n",
    "y_train = df[1]\n",
    "X_test = df[2]\n",
    "y_test = df[3]\n",
    "\n",
    "X_train.frequency = X_train.frequency.astype('int8')\n",
    "X_train.sum_ins = X_train.sum_ins.astype('int8')\n",
    "X_train.pol_period = X_train.pol_period.astype('int8')\n",
    "X_train.sex = X_train.sex.astype('int8')\n",
    "X_train.entry_age = X_train.entry_age.astype('int8')\n",
    "X_train.cnt_months = X_train.cnt_months.astype('int8')\n",
    "\n",
    "X_test.frequency = X_test.frequency.astype('int8')\n",
    "X_test.sum_ins = X_test.sum_ins.astype('int8')\n",
    "X_test.pol_period = X_test.pol_period.astype('int8')\n",
    "X_test.sex = X_test.sex.astype('int8')\n",
    "X_test.entry_age = X_test.entry_age.astype('int8')\n",
    "X_test.cnt_months = X_test.cnt_months.astype('int8')"
   ]
  },
  {
   "cell_type": "code",
   "execution_count": 83,
   "metadata": {},
   "outputs": [
    {
     "name": "stdout",
     "output_type": "stream",
     "text": [
      "# Train samples: 7888415\n",
      "# Test samples: 1972104\n"
     ]
    }
   ],
   "source": [
    "print('# Train samples:', len(X_train))\n",
    "print('# Test samples:', len(X_test))"
   ]
  },
  {
   "cell_type": "markdown",
   "metadata": {},
   "source": [
    "## Optional: Pick smaller data for training"
   ]
  },
  {
   "cell_type": "code",
   "execution_count": 84,
   "metadata": {
    "colab": {
     "base_uri": "https://localhost:8080/",
     "height": 419
    },
    "id": "VVWc5tlWll4R",
    "outputId": "60a52249-961d-4c1a-f435-8b8c1711323e"
   },
   "outputs": [],
   "source": [
    "xy_train = pd.concat([X_train, y_train], axis=1)\n",
    "xy_train_subset = xy_train.sample(frac=0.2, replace = False, random_state = np.random.RandomState())"
   ]
  },
  {
   "cell_type": "code",
   "execution_count": 85,
   "metadata": {
    "id": "WVwVO-MCnmnY"
   },
   "outputs": [],
   "source": [
    "y_train = xy_train_subset.pv_cf_rdr\n",
    "X_train = xy_train_subset.drop(columns=['pv_cf_rdr'])"
   ]
  },
  {
   "cell_type": "markdown",
   "metadata": {
    "id": "3LMrDewco3UW"
   },
   "source": [
    "## Pick validation data"
   ]
  },
  {
   "cell_type": "code",
   "execution_count": 86,
   "metadata": {
    "id": "KQTJFmijo8jc"
   },
   "outputs": [],
   "source": [
    "# first divison - train, validation\n",
    "X_train, X_val, y_train, y_val = train_test_split(\n",
    "    X_train, y_train, train_size=0.8, test_size=0.2, random_state=SEED)"
   ]
  },
  {
   "cell_type": "code",
   "execution_count": 87,
   "metadata": {},
   "outputs": [
    {
     "name": "stdout",
     "output_type": "stream",
     "text": [
      "# Train samples: 1262146\n",
      "# Val samples:   315537\n",
      "# Test samples:  1972104\n"
     ]
    }
   ],
   "source": [
    "print('# Train samples:', len(X_train))\n",
    "print('# Val samples:  ', len(X_val))\n",
    "print('# Test samples: ', len(X_test))"
   ]
  },
  {
   "cell_type": "markdown",
   "metadata": {},
   "source": [
    "# One Hot Encoding"
   ]
  },
  {
   "cell_type": "code",
   "execution_count": 96,
   "metadata": {},
   "outputs": [],
   "source": [
    "# Get one hot encoding\n",
    "dummies_train = pd.get_dummies(X_train['frequency'])\n",
    "dummies_val = pd.get_dummies(X_val['frequency'])\n",
    "dummies_test = pd.get_dummies(X_test['frequency'])"
   ]
  },
  {
   "cell_type": "code",
   "execution_count": 97,
   "metadata": {},
   "outputs": [],
   "source": [
    "dummies_train.columns = ['frequency_1', 'frequency_2', 'frequency_4', 'frequency_11', 'frequency_12']\n",
    "dummies_val.columns = ['frequency_1', 'frequency_2', 'frequency_4', 'frequency_11', 'frequency_12']\n",
    "dummies_test.columns = ['frequency_1', 'frequency_2', 'frequency_4', 'frequency_11', 'frequency_12']"
   ]
  },
  {
   "cell_type": "code",
   "execution_count": 98,
   "metadata": {},
   "outputs": [],
   "source": [
    "# Drop encoded column\n",
    "X_train = X_train.drop('frequency', axis=1)\n",
    "X_val = X_val.drop('frequency', axis=1)\n",
    "X_test = X_test.drop('frequency', axis=1)"
   ]
  },
  {
   "cell_type": "code",
   "execution_count": 99,
   "metadata": {},
   "outputs": [],
   "source": [
    "# Join the encoded\n",
    "X_train = X_train.join(dummies_train)\n",
    "X_val = X_val.join(dummies_val)\n",
    "X_test = X_test.join(dummies_test)"
   ]
  },
  {
   "cell_type": "code",
   "execution_count": 100,
   "metadata": {},
   "outputs": [
    {
     "data": {
      "text/html": [
       "<div>\n",
       "<style scoped>\n",
       "    .dataframe tbody tr th:only-of-type {\n",
       "        vertical-align: middle;\n",
       "    }\n",
       "\n",
       "    .dataframe tbody tr th {\n",
       "        vertical-align: top;\n",
       "    }\n",
       "\n",
       "    .dataframe thead th {\n",
       "        text-align: right;\n",
       "    }\n",
       "</style>\n",
       "<table border=\"1\" class=\"dataframe\">\n",
       "  <thead>\n",
       "    <tr style=\"text-align: right;\">\n",
       "      <th></th>\n",
       "      <th>sum_ins</th>\n",
       "      <th>pol_period</th>\n",
       "      <th>sex</th>\n",
       "      <th>entry_age</th>\n",
       "      <th>beta0</th>\n",
       "      <th>beta1</th>\n",
       "      <th>beta2</th>\n",
       "      <th>tau</th>\n",
       "      <th>cv_ps_0_std</th>\n",
       "      <th>cnt_months</th>\n",
       "      <th>frequency_1</th>\n",
       "      <th>frequency_2</th>\n",
       "      <th>frequency_4</th>\n",
       "      <th>frequency_11</th>\n",
       "      <th>frequency_12</th>\n",
       "    </tr>\n",
       "  </thead>\n",
       "  <tbody>\n",
       "    <tr>\n",
       "      <th>3374030</th>\n",
       "      <td>32</td>\n",
       "      <td>10</td>\n",
       "      <td>0</td>\n",
       "      <td>20</td>\n",
       "      <td>0.056246</td>\n",
       "      <td>-0.044340</td>\n",
       "      <td>0.082417</td>\n",
       "      <td>2.523192</td>\n",
       "      <td>-0.718156</td>\n",
       "      <td>11</td>\n",
       "      <td>1</td>\n",
       "      <td>0</td>\n",
       "      <td>0</td>\n",
       "      <td>0</td>\n",
       "      <td>0</td>\n",
       "    </tr>\n",
       "    <tr>\n",
       "      <th>9045665</th>\n",
       "      <td>-96</td>\n",
       "      <td>10</td>\n",
       "      <td>0</td>\n",
       "      <td>30</td>\n",
       "      <td>0.004695</td>\n",
       "      <td>-0.032060</td>\n",
       "      <td>0.068219</td>\n",
       "      <td>3.095262</td>\n",
       "      <td>397.952265</td>\n",
       "      <td>53</td>\n",
       "      <td>1</td>\n",
       "      <td>0</td>\n",
       "      <td>0</td>\n",
       "      <td>0</td>\n",
       "      <td>0</td>\n",
       "    </tr>\n",
       "    <tr>\n",
       "      <th>7863336</th>\n",
       "      <td>64</td>\n",
       "      <td>30</td>\n",
       "      <td>1</td>\n",
       "      <td>30</td>\n",
       "      <td>0.017803</td>\n",
       "      <td>-0.045871</td>\n",
       "      <td>0.106845</td>\n",
       "      <td>4.055285</td>\n",
       "      <td>4723.472968</td>\n",
       "      <td>119</td>\n",
       "      <td>0</td>\n",
       "      <td>0</td>\n",
       "      <td>0</td>\n",
       "      <td>0</td>\n",
       "      <td>1</td>\n",
       "    </tr>\n",
       "    <tr>\n",
       "      <th>7590642</th>\n",
       "      <td>64</td>\n",
       "      <td>20</td>\n",
       "      <td>1</td>\n",
       "      <td>20</td>\n",
       "      <td>0.018232</td>\n",
       "      <td>-0.041723</td>\n",
       "      <td>0.087542</td>\n",
       "      <td>3.377335</td>\n",
       "      <td>1012.189701</td>\n",
       "      <td>41</td>\n",
       "      <td>0</td>\n",
       "      <td>0</td>\n",
       "      <td>0</td>\n",
       "      <td>0</td>\n",
       "      <td>1</td>\n",
       "    </tr>\n",
       "    <tr>\n",
       "      <th>5452722</th>\n",
       "      <td>64</td>\n",
       "      <td>40</td>\n",
       "      <td>1</td>\n",
       "      <td>20</td>\n",
       "      <td>0.023229</td>\n",
       "      <td>-0.012048</td>\n",
       "      <td>0.042481</td>\n",
       "      <td>5.933613</td>\n",
       "      <td>1513.367092</td>\n",
       "      <td>77</td>\n",
       "      <td>0</td>\n",
       "      <td>0</td>\n",
       "      <td>1</td>\n",
       "      <td>0</td>\n",
       "      <td>0</td>\n",
       "    </tr>\n",
       "    <tr>\n",
       "      <th>...</th>\n",
       "      <td>...</td>\n",
       "      <td>...</td>\n",
       "      <td>...</td>\n",
       "      <td>...</td>\n",
       "      <td>...</td>\n",
       "      <td>...</td>\n",
       "      <td>...</td>\n",
       "      <td>...</td>\n",
       "      <td>...</td>\n",
       "      <td>...</td>\n",
       "      <td>...</td>\n",
       "      <td>...</td>\n",
       "      <td>...</td>\n",
       "      <td>...</td>\n",
       "      <td>...</td>\n",
       "    </tr>\n",
       "    <tr>\n",
       "      <th>7146490</th>\n",
       "      <td>-96</td>\n",
       "      <td>20</td>\n",
       "      <td>0</td>\n",
       "      <td>40</td>\n",
       "      <td>0.012781</td>\n",
       "      <td>-0.038706</td>\n",
       "      <td>0.079785</td>\n",
       "      <td>3.228508</td>\n",
       "      <td>255.765028</td>\n",
       "      <td>65</td>\n",
       "      <td>1</td>\n",
       "      <td>0</td>\n",
       "      <td>0</td>\n",
       "      <td>0</td>\n",
       "      <td>0</td>\n",
       "    </tr>\n",
       "    <tr>\n",
       "      <th>3128180</th>\n",
       "      <td>-96</td>\n",
       "      <td>10</td>\n",
       "      <td>0</td>\n",
       "      <td>60</td>\n",
       "      <td>0.018787</td>\n",
       "      <td>-0.001662</td>\n",
       "      <td>-0.003681</td>\n",
       "      <td>2.000000</td>\n",
       "      <td>2100.497287</td>\n",
       "      <td>53</td>\n",
       "      <td>0</td>\n",
       "      <td>0</td>\n",
       "      <td>0</td>\n",
       "      <td>1</td>\n",
       "      <td>0</td>\n",
       "    </tr>\n",
       "    <tr>\n",
       "      <th>6614584</th>\n",
       "      <td>-96</td>\n",
       "      <td>30</td>\n",
       "      <td>0</td>\n",
       "      <td>30</td>\n",
       "      <td>0.031335</td>\n",
       "      <td>-0.045982</td>\n",
       "      <td>0.086140</td>\n",
       "      <td>2.822862</td>\n",
       "      <td>284.148803</td>\n",
       "      <td>89</td>\n",
       "      <td>1</td>\n",
       "      <td>0</td>\n",
       "      <td>0</td>\n",
       "      <td>0</td>\n",
       "      <td>0</td>\n",
       "    </tr>\n",
       "    <tr>\n",
       "      <th>7612120</th>\n",
       "      <td>-96</td>\n",
       "      <td>40</td>\n",
       "      <td>0</td>\n",
       "      <td>20</td>\n",
       "      <td>0.008416</td>\n",
       "      <td>-0.028647</td>\n",
       "      <td>0.089597</td>\n",
       "      <td>5.538124</td>\n",
       "      <td>193.782388</td>\n",
       "      <td>89</td>\n",
       "      <td>1</td>\n",
       "      <td>0</td>\n",
       "      <td>0</td>\n",
       "      <td>0</td>\n",
       "      <td>0</td>\n",
       "    </tr>\n",
       "    <tr>\n",
       "      <th>1758473</th>\n",
       "      <td>-96</td>\n",
       "      <td>20</td>\n",
       "      <td>0</td>\n",
       "      <td>30</td>\n",
       "      <td>0.004270</td>\n",
       "      <td>-0.011191</td>\n",
       "      <td>0.032860</td>\n",
       "      <td>4.981423</td>\n",
       "      <td>1020.129800</td>\n",
       "      <td>29</td>\n",
       "      <td>0</td>\n",
       "      <td>0</td>\n",
       "      <td>0</td>\n",
       "      <td>1</td>\n",
       "      <td>0</td>\n",
       "    </tr>\n",
       "  </tbody>\n",
       "</table>\n",
       "<p>1262146 rows × 15 columns</p>\n",
       "</div>"
      ],
      "text/plain": [
       "         sum_ins  pol_period  sex  entry_age     beta0     beta1     beta2  \\\n",
       "3374030       32          10    0         20  0.056246 -0.044340  0.082417   \n",
       "9045665      -96          10    0         30  0.004695 -0.032060  0.068219   \n",
       "7863336       64          30    1         30  0.017803 -0.045871  0.106845   \n",
       "7590642       64          20    1         20  0.018232 -0.041723  0.087542   \n",
       "5452722       64          40    1         20  0.023229 -0.012048  0.042481   \n",
       "...          ...         ...  ...        ...       ...       ...       ...   \n",
       "7146490      -96          20    0         40  0.012781 -0.038706  0.079785   \n",
       "3128180      -96          10    0         60  0.018787 -0.001662 -0.003681   \n",
       "6614584      -96          30    0         30  0.031335 -0.045982  0.086140   \n",
       "7612120      -96          40    0         20  0.008416 -0.028647  0.089597   \n",
       "1758473      -96          20    0         30  0.004270 -0.011191  0.032860   \n",
       "\n",
       "              tau  cv_ps_0_std  cnt_months  frequency_1  frequency_2  \\\n",
       "3374030  2.523192    -0.718156          11            1            0   \n",
       "9045665  3.095262   397.952265          53            1            0   \n",
       "7863336  4.055285  4723.472968         119            0            0   \n",
       "7590642  3.377335  1012.189701          41            0            0   \n",
       "5452722  5.933613  1513.367092          77            0            0   \n",
       "...           ...          ...         ...          ...          ...   \n",
       "7146490  3.228508   255.765028          65            1            0   \n",
       "3128180  2.000000  2100.497287          53            0            0   \n",
       "6614584  2.822862   284.148803          89            1            0   \n",
       "7612120  5.538124   193.782388          89            1            0   \n",
       "1758473  4.981423  1020.129800          29            0            0   \n",
       "\n",
       "         frequency_4  frequency_11  frequency_12  \n",
       "3374030            0             0             0  \n",
       "9045665            0             0             0  \n",
       "7863336            0             0             1  \n",
       "7590642            0             0             1  \n",
       "5452722            1             0             0  \n",
       "...              ...           ...           ...  \n",
       "7146490            0             0             0  \n",
       "3128180            0             1             0  \n",
       "6614584            0             0             0  \n",
       "7612120            0             0             0  \n",
       "1758473            0             1             0  \n",
       "\n",
       "[1262146 rows x 15 columns]"
      ]
     },
     "execution_count": 100,
     "metadata": {},
     "output_type": "execute_result"
    }
   ],
   "source": [
    "X_train"
   ]
  },
  {
   "cell_type": "markdown",
   "metadata": {},
   "source": [
    "# Optional: Standardize data"
   ]
  },
  {
   "cell_type": "code",
   "execution_count": 103,
   "metadata": {},
   "outputs": [],
   "source": [
    "X_train_toscale = X_train[['sum_ins', 'pol_period', 'entry_age', 'beta0', 'beta1', 'beta2', 'tau', 'cv_ps_0_std', 'cnt_months']]\n",
    "X_val_toscale = X_val[['sum_ins', 'pol_period', 'entry_age', 'beta0', 'beta1', 'beta2', 'tau', 'cv_ps_0_std', 'cnt_months']]\n",
    "X_test_toscale = X_test[['sum_ins', 'pol_period', 'entry_age', 'beta0', 'beta1', 'beta2', 'tau', 'cv_ps_0_std', 'cnt_months']]"
   ]
  },
  {
   "cell_type": "code",
   "execution_count": 104,
   "metadata": {},
   "outputs": [],
   "source": [
    "X_train_nottoscale = X_train[['sex', 'frequency_1', 'frequency_2', 'frequency_4', 'frequency_11', 'frequency_12']]\n",
    "X_val_nottoscale = X_val[['sex', 'frequency_1', 'frequency_2', 'frequency_4', 'frequency_11', 'frequency_12']]\n",
    "X_test_nottoscale = X_test[['sex', 'frequency_1', 'frequency_2', 'frequency_4', 'frequency_11', 'frequency_12']]"
   ]
  },
  {
   "cell_type": "code",
   "execution_count": 105,
   "metadata": {},
   "outputs": [],
   "source": [
    "standard_scaler = StandardScaler()\n",
    "\n",
    "X_train_scaled = pd.DataFrame(\n",
    "    standard_scaler.fit_transform(X_train_toscale), columns=X_train_toscale.columns, index=X_train_toscale.index)\n",
    "X_val_scaled = pd.DataFrame(\n",
    "    standard_scaler.transform(X_val_toscale), columns=X_val_toscale.columns, index=X_val_toscale.index)\n",
    "X_test_scaled = pd.DataFrame(\n",
    "    standard_scaler.transform(X_test_toscale), columns=X_test_toscale.columns, index=X_test_toscale.index)"
   ]
  },
  {
   "cell_type": "code",
   "execution_count": 110,
   "metadata": {},
   "outputs": [],
   "source": [
    "X_train = pd.concat([X_train_scaled, X_train_nottoscale], axis=1)\n",
    "X_val = pd.concat([X_val_scaled, X_val_nottoscale], axis=1)\n",
    "X_test = pd.concat([X_test_scaled, X_test_nottoscale], axis=1)"
   ]
  },
  {
   "cell_type": "markdown",
   "metadata": {
    "id": "GxaDkFjNMVsQ"
   },
   "source": [
    "# Basic regression NN"
   ]
  },
  {
   "cell_type": "code",
   "execution_count": 234,
   "metadata": {},
   "outputs": [],
   "source": [
    "model_1 = Sequential()\n",
    "model_1.add(Dense(16, activation='relu', input_shape=(15,)))\n",
    "model_1.add(Dense(24747, activation='relu'))\n",
    "model_1.add(Dense(1))\n",
    "model_1.compile(optimizer='Adam', loss='mse')"
   ]
  },
  {
   "cell_type": "code",
   "execution_count": 238,
   "metadata": {},
   "outputs": [
    {
     "name": "stdout",
     "output_type": "stream",
     "text": [
      "Epoch 51/100\n",
      "3698/3698 [==============================] - 127s 34ms/step - loss: 10720104.0000 - val_loss: 10422543.0000\n",
      "Epoch 52/100\n",
      "3698/3698 [==============================] - 129s 35ms/step - loss: 10670366.0000 - val_loss: 10476664.0000\n",
      "Epoch 53/100\n",
      "3698/3698 [==============================] - 131s 35ms/step - loss: 10477903.0000 - val_loss: 10266079.0000\n",
      "Epoch 54/100\n",
      "3698/3698 [==============================] - 131s 35ms/step - loss: 10427117.0000 - val_loss: 11149765.0000\n",
      "Epoch 55/100\n",
      "3698/3698 [==============================] - 130s 35ms/step - loss: 10264839.0000 - val_loss: 10306721.0000\n",
      "Epoch 56/100\n",
      "3698/3698 [==============================] - 130s 35ms/step - loss: 10233612.0000 - val_loss: 11364535.0000\n",
      "Epoch 57/100\n",
      "3698/3698 [==============================] - 132s 36ms/step - loss: 10097753.0000 - val_loss: 9822680.0000\n",
      "Epoch 58/100\n",
      "3698/3698 [==============================] - 108s 29ms/step - loss: 10050497.0000 - val_loss: 9697542.0000\n",
      "Epoch 59/100\n",
      "3698/3698 [==============================] - 108s 29ms/step - loss: 9926918.0000 - val_loss: 9651268.0000\n",
      "Epoch 60/100\n",
      "3698/3698 [==============================] - 109s 30ms/step - loss: 9802850.0000 - val_loss: 9818414.0000\n",
      "Epoch 61/100\n",
      "3698/3698 [==============================] - 109s 29ms/step - loss: 9747677.0000 - val_loss: 10343165.0000\n",
      "Epoch 62/100\n",
      "3698/3698 [==============================] - 111s 30ms/step - loss: 9707959.0000 - val_loss: 9718832.0000\n",
      "Epoch 63/100\n",
      "3698/3698 [==============================] - 110s 30ms/step - loss: 9593563.0000 - val_loss: 9803657.0000\n",
      "Epoch 64/100\n",
      "3698/3698 [==============================] - 110s 30ms/step - loss: 9579591.0000 - val_loss: 9882426.0000\n",
      "Epoch 65/100\n",
      "3698/3698 [==============================] - 110s 30ms/step - loss: 9443284.0000 - val_loss: 9279923.0000\n",
      "Epoch 66/100\n",
      "3698/3698 [==============================] - 110s 30ms/step - loss: 9398417.0000 - val_loss: 9100645.0000\n",
      "Epoch 67/100\n",
      "3698/3698 [==============================] - 110s 30ms/step - loss: 9293050.0000 - val_loss: 9981925.0000\n",
      "Epoch 68/100\n",
      "3698/3698 [==============================] - 110s 30ms/step - loss: 9217552.0000 - val_loss: 9018231.0000\n",
      "Epoch 69/100\n",
      "3698/3698 [==============================] - 110s 30ms/step - loss: 9199994.0000 - val_loss: 9507300.0000\n",
      "Epoch 70/100\n",
      "3698/3698 [==============================] - 111s 30ms/step - loss: 9106390.0000 - val_loss: 9284868.0000\n",
      "Epoch 71/100\n",
      "3698/3698 [==============================] - 112s 30ms/step - loss: 9030485.0000 - val_loss: 8800604.0000\n",
      "Epoch 72/100\n",
      "3698/3698 [==============================] - 111s 30ms/step - loss: 9087583.0000 - val_loss: 9212871.0000\n",
      "Epoch 73/100\n",
      "3698/3698 [==============================] - 110s 30ms/step - loss: 8984125.0000 - val_loss: 9090058.0000\n",
      "Epoch 74/100\n",
      "3698/3698 [==============================] - 110s 30ms/step - loss: 8936700.0000 - val_loss: 9379817.0000\n",
      "Epoch 75/100\n",
      "3698/3698 [==============================] - 122s 33ms/step - loss: 8835367.0000 - val_loss: 8703980.0000\n",
      "Epoch 76/100\n",
      "3698/3698 [==============================] - 122s 33ms/step - loss: 8774196.0000 - val_loss: 9090722.0000\n",
      "Epoch 77/100\n",
      "3698/3698 [==============================] - 129s 35ms/step - loss: 8784068.0000 - val_loss: 8715874.0000\n",
      "Epoch 78/100\n",
      "3698/3698 [==============================] - 130s 35ms/step - loss: 8727200.0000 - val_loss: 8639410.0000\n",
      "Epoch 79/100\n",
      "3698/3698 [==============================] - 123s 33ms/step - loss: 8656630.0000 - val_loss: 8842847.0000\n",
      "Epoch 80/100\n",
      "3698/3698 [==============================] - 121s 33ms/step - loss: 8515757.0000 - val_loss: 8658545.0000\n",
      "Epoch 81/100\n",
      "3698/3698 [==============================] - 123s 33ms/step - loss: 8554599.0000 - val_loss: 8334676.0000\n",
      "Epoch 82/100\n",
      "3698/3698 [==============================] - 122s 33ms/step - loss: 8467137.0000 - val_loss: 8220915.5000\n",
      "Epoch 83/100\n",
      "3698/3698 [==============================] - 109s 29ms/step - loss: 8462392.0000 - val_loss: 8208931.0000\n",
      "Epoch 84/100\n",
      "3698/3698 [==============================] - 110s 30ms/step - loss: 8448943.0000 - val_loss: 8232616.0000\n",
      "Epoch 85/100\n",
      "3698/3698 [==============================] - 120s 33ms/step - loss: 8306292.5000 - val_loss: 8317099.0000\n",
      "Epoch 86/100\n",
      "3698/3698 [==============================] - 120s 32ms/step - loss: 8341105.0000 - val_loss: 8232761.5000\n",
      "Epoch 87/100\n",
      "3698/3698 [==============================] - 121s 33ms/step - loss: 8220104.0000 - val_loss: 8330858.5000\n",
      "Epoch 88/100\n",
      "3698/3698 [==============================] - 120s 32ms/step - loss: 8192687.0000 - val_loss: 8012115.5000\n",
      "Epoch 89/100\n",
      "3698/3698 [==============================] - 110s 30ms/step - loss: 8174765.0000 - val_loss: 9626176.0000\n",
      "Epoch 90/100\n",
      "3698/3698 [==============================] - 109s 30ms/step - loss: 8126660.0000 - val_loss: 7900791.5000\n",
      "Epoch 91/100\n",
      "3698/3698 [==============================] - 119s 32ms/step - loss: 8089162.5000 - val_loss: 8034239.0000\n",
      "Epoch 92/100\n",
      "3698/3698 [==============================] - 120s 32ms/step - loss: 8043244.5000 - val_loss: 8655777.0000\n",
      "Epoch 93/100\n",
      "3698/3698 [==============================] - 121s 33ms/step - loss: 8013141.0000 - val_loss: 8017904.0000\n",
      "Epoch 94/100\n",
      "3698/3698 [==============================] - 121s 33ms/step - loss: 7987938.5000 - val_loss: 7850608.5000\n",
      "Epoch 95/100\n",
      "3698/3698 [==============================] - 110s 30ms/step - loss: 7882872.5000 - val_loss: 9056575.0000\n",
      "Epoch 96/100\n",
      "3698/3698 [==============================] - 115s 31ms/step - loss: 7921753.5000 - val_loss: 8045619.5000\n",
      "Epoch 97/100\n",
      "3698/3698 [==============================] - 122s 33ms/step - loss: 7868094.0000 - val_loss: 7693945.5000\n",
      "Epoch 98/100\n",
      "3698/3698 [==============================] - 119s 32ms/step - loss: 7753120.5000 - val_loss: 7461807.0000\n",
      "Epoch 99/100\n",
      "3698/3698 [==============================] - 120s 32ms/step - loss: 7714823.0000 - val_loss: 7803248.0000\n",
      "Epoch 100/100\n",
      "3698/3698 [==============================] - 119s 32ms/step - loss: 7736784.5000 - val_loss: 8012627.0000\n",
      "Model: \"sequential_15\"\n",
      "_________________________________________________________________\n",
      "Layer (type)                 Output Shape              Param #   \n",
      "=================================================================\n",
      "dense_74 (Dense)             (None, 16)                256       \n",
      "_________________________________________________________________\n",
      "dense_75 (Dense)             (None, 24747)             420699    \n",
      "_________________________________________________________________\n",
      "dense_76 (Dense)             (None, 1)                 24748     \n",
      "=================================================================\n",
      "Total params: 445,703\n",
      "Trainable params: 445,703\n",
      "Non-trainable params: 0\n",
      "_________________________________________________________________\n",
      "CPU times: user 4h 57min 39s, sys: 7min 21s, total: 5h 5min 1s\n",
      "Wall time: 1h 37min 56s\n"
     ]
    }
   ],
   "source": [
    "%%time\n",
    "history_1 = model_1.fit(\n",
    "    x=X_train,\n",
    "    y=y_train,\n",
    "    validation_split=0.25,\n",
    "    batch_size=256,\n",
    "    epochs=100,\n",
    "    initial_epoch=50,\n",
    ")\n",
    "model_1.summary()"
   ]
  },
  {
   "cell_type": "markdown",
   "metadata": {},
   "source": [
    "## Evaluation"
   ]
  },
  {
   "cell_type": "code",
   "execution_count": 177,
   "metadata": {},
   "outputs": [
    {
     "data": {
      "text/plain": [
       "<matplotlib.axes._subplots.AxesSubplot at 0x7fbb5c23d668>"
      ]
     },
     "execution_count": 177,
     "metadata": {},
     "output_type": "execute_result"
    },
    {
     "data": {
      "image/png": "[encoded data removed]",
      "text/plain": [
       "<Figure size 864x576 with 1 Axes>"
      ]
     },
     "metadata": {
      "needs_background": "light"
     },
     "output_type": "display_data"
    }
   ],
   "source": [
    "loss_df = pd.DataFrame(history_1.history)\n",
    "loss_df.plot(figsize=(12,8))"
   ]
  },
  {
   "cell_type": "code",
   "execution_count": 236,
   "metadata": {},
   "outputs": [
    {
     "name": "stdout",
     "output_type": "stream",
     "text": [
      "Train MAPE: 21.304185457436382\n",
      "CPU times: user 2min 7s, sys: 5.01 s, total: 2min 12s\n",
      "Wall time: 1min 7s\n"
     ]
    }
   ],
   "source": [
    "%%time\n",
    "y_pred_train = model_1.predict(X_train)\n",
    "print('Train MAPE:', metrics.mean_absolute_percentage_error(y_train, y_pred_train)*100)"
   ]
  },
  {
   "cell_type": "code",
   "execution_count": 237,
   "metadata": {},
   "outputs": [
    {
     "name": "stdout",
     "output_type": "stream",
     "text": [
      "Val MAPE: 18.910280887208643\n",
      "CPU times: user 31.7 s, sys: 1.26 s, total: 33 s\n",
      "Wall time: 15.8 s\n"
     ]
    }
   ],
   "source": [
    "%%time\n",
    "y_pred_val = model_1.predict(X_val)\n",
    "print('Val MAPE:', metrics.mean_absolute_percentage_error(y_val, y_pred_val)*100)"
   ]
  },
  {
   "cell_type": "code",
   "execution_count": 105,
   "metadata": {
    "id": "J-ARC_zRN_LF"
   },
   "outputs": [
    {
     "name": "stdout",
     "output_type": "stream",
     "text": [
      "MAE: 3077.1738352995058\n",
      "MSE: 26439119.576893177\n",
      "RMSE: 5141.89844093533\n",
      "VarScore: 0.9993895804993767\n"
     ]
    }
   ],
   "source": [
    "print('MAE:', metrics.mean_absolute_error(y_val, y_pred_val))  \n",
    "print('MSE:', metrics.mean_squared_error(y_val, y_pred_val))  \n",
    "print('RMSE:', np.sqrt(metrics.mean_squared_error(y_val, y_pred_val)))\n",
    "print('VarScore:',metrics.explained_variance_score(y_val, y_pred_val))"
   ]
  },
  {
   "cell_type": "code",
   "execution_count": 44,
   "metadata": {},
   "outputs": [
    {
     "data": {
      "text/plain": [
       "[<matplotlib.lines.Line2D at 0x7fbb5f9ed860>]"
      ]
     },
     "execution_count": 44,
     "metadata": {},
     "output_type": "execute_result"
    },
    {
     "data": {
      "image/png": "[encoded data removed]",
      "text/plain": [
       "<Figure size 720x360 with 1 Axes>"
      ]
     },
     "metadata": {
      "needs_background": "light"
     },
     "output_type": "display_data"
    }
   ],
   "source": [
    "# Visualizing Our predictions\n",
    "fig = plt.figure(figsize=(10,5))\n",
    "plt.scatter(y_val,y_pred_val)\n",
    "# Perfect predictions\n",
    "plt.plot(y_val,y_val,'r')"
   ]
  },
  {
   "cell_type": "code",
   "execution_count": null,
   "metadata": {},
   "outputs": [],
   "source": []
  }
 ],
 "metadata": {
  "accelerator": "TPU",
  "colab": {
   "collapsed_sections": [],
   "name": "pvcf.ipynb",
   "provenance": []
  },
  "kernelspec": {
   "display_name": "Python 3",
   "language": "python",
   "name": "python3"
  },
  "language_info": {
   "codemirror_mode": {
    "name": "ipython",
    "version": 3
   },
   "file_extension": ".py",
   "mimetype": "text/x-python",
   "name": "python",
   "nbconvert_exporter": "python",
   "pygments_lexer": "ipython3",
   "version": "3.7.3"
  }
 },
 "nbformat": 4,
 "nbformat_minor": 4
}
